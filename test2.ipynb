{
 "cells": [
  {
   "cell_type": "code",
   "execution_count": 74,
   "metadata": {
    "collapsed": true
   },
   "outputs": [],
   "source": [
    "from __future__ import print_function\n",
    "import importlib\n",
    "from distutils.version import LooseVersion\n",
    "import glob\n",
    "import numpy as np\n",
    "import os\n",
    "import SimpleITK as sitk\n",
    "import matplotlib.pyplot as plt\n",
    "%matplotlib inline\n"
   ]
  },
  {
   "cell_type": "code",
   "execution_count": 106,
   "metadata": {},
   "outputs": [
    {
     "name": "stderr",
     "output_type": "stream",
     "text": [
      "ERROR:root:File `'update_path_to_download_script.py'` not found.\n"
     ]
    }
   ],
   "source": [
    "import os\n",
    "import SimpleITK as sitk\n",
    "import matplotlib.pyplot as plt\n",
    "%matplotlib inline\n",
    "\n",
    "%run update_path_to_download_script\n",
    "from downloaddata import fetch_data as fdata\n",
    "\n",
    "from downloaddata import fetch_data_all\n",
    "import numpy as np\n",
    "inputDir = 'train/Amsterdam/101'\n",
    "outputDir = 'output'"
   ]
  },
  {
   "cell_type": "code",
   "execution_count": 75,
   "metadata": {
    "collapsed": true
   },
   "outputs": [],
   "source": [
    "def myshow(img, title=None, margin=0.05, dpi=80):\n",
    "    nda = sitk.GetArrayViewFromImage(img)\n",
    "    spacing = img.GetSpacing()\n",
    "        \n",
    "    if nda.ndim == 3:\n",
    "        # fastest dim, either component or x\n",
    "        c = nda.shape[-1]\n",
    "        \n",
    "        # the the number of components is 3 or 4 consider it an RGB image\n",
    "        if not c in (3,4):\n",
    "            nda = nda[nda.shape[0]//2,:,:]\n",
    "    \n",
    "    elif nda.ndim == 4:\n",
    "        c = nda.shape[-1]\n",
    "        \n",
    "        if not c in (3,4):\n",
    "            raise Runtime(\"Unable to show 3D-vector Image\")\n",
    "            \n",
    "        # take a z-slice\n",
    "        nda = nda[nda.shape[0]//2,:,:,:]\n",
    "            \n",
    "    ysize = nda.shape[0]\n",
    "    xsize = nda.shape[1]\n",
    "      \n",
    "    # Make a figure big enough to accommodate an axis of xpixels by ypixels\n",
    "    # as well as the ticklabels, etc...\n",
    "    figsize = (1 + margin) * ysize / dpi, (1 + margin) * xsize / dpi\n",
    "\n",
    "    fig = plt.figure(figsize=figsize, dpi=dpi)\n",
    "    # Make the axis the right size...\n",
    "    ax = fig.add_axes([margin, margin, 1 - 2*margin, 1 - 2*margin])\n",
    "    \n",
    "    extent = (0, xsize*spacing[1], ysize*spacing[0], 0)\n",
    "    \n",
    "    t = ax.imshow(nda,extent=extent,interpolation=None)\n",
    "    \n",
    "    if nda.ndim == 2:\n",
    "        t.set_cmap(\"gray\")\n",
    "    \n",
    "    if(title):\n",
    "        plt.title(title)"
   ]
  },
  {
   "cell_type": "code",
   "execution_count": 76,
   "metadata": {},
   "outputs": [
    {
     "name": "stdout",
     "output_type": "stream",
     "text": [
      "Help on function pad in module numpy.lib.arraypad:\n",
      "\n",
      "pad(array, pad_width, mode, **kwargs)\n",
      "    Pads an array.\n",
      "    \n",
      "    Parameters\n",
      "    ----------\n",
      "    array : array_like of rank N\n",
      "        Input array\n",
      "    pad_width : {sequence, array_like, int}\n",
      "        Number of values padded to the edges of each axis.\n",
      "        ((before_1, after_1), ... (before_N, after_N)) unique pad widths\n",
      "        for each axis.\n",
      "        ((before, after),) yields same before and after pad for each axis.\n",
      "        (pad,) or int is a shortcut for before = after = pad width for all\n",
      "        axes.\n",
      "    mode : str or function\n",
      "        One of the following string values or a user supplied function.\n",
      "    \n",
      "        'constant'\n",
      "            Pads with a constant value.\n",
      "        'edge'\n",
      "            Pads with the edge values of array.\n",
      "        'linear_ramp'\n",
      "            Pads with the linear ramp between end_value and the\n",
      "            array edge value.\n",
      "        'maximum'\n",
      "            Pads with the maximum value of all or part of the\n",
      "            vector along each axis.\n",
      "        'mean'\n",
      "            Pads with the mean value of all or part of the\n",
      "            vector along each axis.\n",
      "        'median'\n",
      "            Pads with the median value of all or part of the\n",
      "            vector along each axis.\n",
      "        'minimum'\n",
      "            Pads with the minimum value of all or part of the\n",
      "            vector along each axis.\n",
      "        'reflect'\n",
      "            Pads with the reflection of the vector mirrored on\n",
      "            the first and last values of the vector along each\n",
      "            axis.\n",
      "        'symmetric'\n",
      "            Pads with the reflection of the vector mirrored\n",
      "            along the edge of the array.\n",
      "        'wrap'\n",
      "            Pads with the wrap of the vector along the axis.\n",
      "            The first values are used to pad the end and the\n",
      "            end values are used to pad the beginning.\n",
      "        <function>\n",
      "            Padding function, see Notes.\n",
      "    stat_length : sequence or int, optional\n",
      "        Used in 'maximum', 'mean', 'median', and 'minimum'.  Number of\n",
      "        values at edge of each axis used to calculate the statistic value.\n",
      "    \n",
      "        ((before_1, after_1), ... (before_N, after_N)) unique statistic\n",
      "        lengths for each axis.\n",
      "    \n",
      "        ((before, after),) yields same before and after statistic lengths\n",
      "        for each axis.\n",
      "    \n",
      "        (stat_length,) or int is a shortcut for before = after = statistic\n",
      "        length for all axes.\n",
      "    \n",
      "        Default is ``None``, to use the entire axis.\n",
      "    constant_values : sequence or int, optional\n",
      "        Used in 'constant'.  The values to set the padded values for each\n",
      "        axis.\n",
      "    \n",
      "        ((before_1, after_1), ... (before_N, after_N)) unique pad constants\n",
      "        for each axis.\n",
      "    \n",
      "        ((before, after),) yields same before and after constants for each\n",
      "        axis.\n",
      "    \n",
      "        (constant,) or int is a shortcut for before = after = constant for\n",
      "        all axes.\n",
      "    \n",
      "        Default is 0.\n",
      "    end_values : sequence or int, optional\n",
      "        Used in 'linear_ramp'.  The values used for the ending value of the\n",
      "        linear_ramp and that will form the edge of the padded array.\n",
      "    \n",
      "        ((before_1, after_1), ... (before_N, after_N)) unique end values\n",
      "        for each axis.\n",
      "    \n",
      "        ((before, after),) yields same before and after end values for each\n",
      "        axis.\n",
      "    \n",
      "        (constant,) or int is a shortcut for before = after = end value for\n",
      "        all axes.\n",
      "    \n",
      "        Default is 0.\n",
      "    reflect_type : {'even', 'odd'}, optional\n",
      "        Used in 'reflect', and 'symmetric'.  The 'even' style is the\n",
      "        default with an unaltered reflection around the edge value.  For\n",
      "        the 'odd' style, the extented part of the array is created by\n",
      "        subtracting the reflected values from two times the edge value.\n",
      "    \n",
      "    Returns\n",
      "    -------\n",
      "    pad : ndarray\n",
      "        Padded array of rank equal to `array` with shape increased\n",
      "        according to `pad_width`.\n",
      "    \n",
      "    Notes\n",
      "    -----\n",
      "    .. versionadded:: 1.7.0\n",
      "    \n",
      "    For an array with rank greater than 1, some of the padding of later\n",
      "    axes is calculated from padding of previous axes.  This is easiest to\n",
      "    think about with a rank 2 array where the corners of the padded array\n",
      "    are calculated by using padded values from the first axis.\n",
      "    \n",
      "    The padding function, if used, should return a rank 1 array equal in\n",
      "    length to the vector argument with padded values replaced. It has the\n",
      "    following signature::\n",
      "    \n",
      "        padding_func(vector, iaxis_pad_width, iaxis, kwargs)\n",
      "    \n",
      "    where\n",
      "    \n",
      "        vector : ndarray\n",
      "            A rank 1 array already padded with zeros.  Padded values are\n",
      "            vector[:pad_tuple[0]] and vector[-pad_tuple[1]:].\n",
      "        iaxis_pad_width : tuple\n",
      "            A 2-tuple of ints, iaxis_pad_width[0] represents the number of\n",
      "            values padded at the beginning of vector where\n",
      "            iaxis_pad_width[1] represents the number of values padded at\n",
      "            the end of vector.\n",
      "        iaxis : int\n",
      "            The axis currently being calculated.\n",
      "        kwargs : dict\n",
      "            Any keyword arguments the function requires.\n",
      "    \n",
      "    Examples\n",
      "    --------\n",
      "    >>> a = [1, 2, 3, 4, 5]\n",
      "    >>> np.pad(a, (2,3), 'constant', constant_values=(4, 6))\n",
      "    array([4, 4, 1, 2, 3, 4, 5, 6, 6, 6])\n",
      "    \n",
      "    >>> np.pad(a, (2, 3), 'edge')\n",
      "    array([1, 1, 1, 2, 3, 4, 5, 5, 5, 5])\n",
      "    \n",
      "    >>> np.pad(a, (2, 3), 'linear_ramp', end_values=(5, -4))\n",
      "    array([ 5,  3,  1,  2,  3,  4,  5,  2, -1, -4])\n",
      "    \n",
      "    >>> np.pad(a, (2,), 'maximum')\n",
      "    array([5, 5, 1, 2, 3, 4, 5, 5, 5])\n",
      "    \n",
      "    >>> np.pad(a, (2,), 'mean')\n",
      "    array([3, 3, 1, 2, 3, 4, 5, 3, 3])\n",
      "    \n",
      "    >>> np.pad(a, (2,), 'median')\n",
      "    array([3, 3, 1, 2, 3, 4, 5, 3, 3])\n",
      "    \n",
      "    >>> a = [[1, 2], [3, 4]]\n",
      "    >>> np.pad(a, ((3, 2), (2, 3)), 'minimum')\n",
      "    array([[1, 1, 1, 2, 1, 1, 1],\n",
      "           [1, 1, 1, 2, 1, 1, 1],\n",
      "           [1, 1, 1, 2, 1, 1, 1],\n",
      "           [1, 1, 1, 2, 1, 1, 1],\n",
      "           [3, 3, 3, 4, 3, 3, 3],\n",
      "           [1, 1, 1, 2, 1, 1, 1],\n",
      "           [1, 1, 1, 2, 1, 1, 1]])\n",
      "    \n",
      "    >>> a = [1, 2, 3, 4, 5]\n",
      "    >>> np.pad(a, (2, 3), 'reflect')\n",
      "    array([3, 2, 1, 2, 3, 4, 5, 4, 3, 2])\n",
      "    \n",
      "    >>> np.pad(a, (2, 3), 'reflect', reflect_type='odd')\n",
      "    array([-1,  0,  1,  2,  3,  4,  5,  6,  7,  8])\n",
      "    \n",
      "    >>> np.pad(a, (2, 3), 'symmetric')\n",
      "    array([2, 1, 1, 2, 3, 4, 5, 5, 4, 3])\n",
      "    \n",
      "    >>> np.pad(a, (2, 3), 'symmetric', reflect_type='odd')\n",
      "    array([0, 1, 1, 2, 3, 4, 5, 5, 6, 7])\n",
      "    \n",
      "    >>> np.pad(a, (2, 3), 'wrap')\n",
      "    array([4, 5, 1, 2, 3, 4, 5, 1, 2, 3])\n",
      "    \n",
      "    >>> def pad_with(vector, pad_width, iaxis, kwargs):\n",
      "    ...     pad_value = kwargs.get('padder', 10)\n",
      "    ...     vector[:pad_width[0]] = pad_value\n",
      "    ...     vector[-pad_width[1]:] = pad_value\n",
      "    ...     return vector\n",
      "    >>> a = np.arange(6)\n",
      "    >>> a = a.reshape((2, 3))\n",
      "    >>> np.pad(a, 2, pad_with)\n",
      "    array([[10, 10, 10, 10, 10, 10, 10],\n",
      "           [10, 10, 10, 10, 10, 10, 10],\n",
      "           [10, 10,  0,  1,  2, 10, 10],\n",
      "           [10, 10,  3,  4,  5, 10, 10],\n",
      "           [10, 10, 10, 10, 10, 10, 10],\n",
      "           [10, 10, 10, 10, 10, 10, 10]])\n",
      "    >>> np.pad(a, 2, pad_with, padder=100)\n",
      "    array([[100, 100, 100, 100, 100, 100, 100],\n",
      "           [100, 100, 100, 100, 100, 100, 100],\n",
      "           [100, 100,   0,   1,   2, 100, 100],\n",
      "           [100, 100,   3,   4,   5, 100, 100],\n",
      "           [100, 100, 100, 100, 100, 100, 100],\n",
      "           [100, 100, 100, 100, 100, 100, 100]])\n",
      "\n"
     ]
    }
   ],
   "source": [
    "help(np.pad)"
   ]
  },
  {
   "cell_type": "code",
   "execution_count": 77,
   "metadata": {
    "collapsed": true
   },
   "outputs": [],
   "source": [
    "def loadData( rootPath, padding=0 ):\n",
    "    imageFilenames = glob.glob(os.path.join(rootPath, \"*\", \"pre\", \"T1.nii.gz\"))      \n",
    "    flairFilenames = glob.glob(os.path.join(rootPath, \"*\", \"pre\", \"FLAIR.nii.gz\"))\n",
    "    labelFilenames = glob.glob(os.path.join(rootPath, \"*\", \"wmh.nii.gz\"))\n",
    "    \n",
    "    images = None # shape: (numImages, z, y, x, channels=1)\n",
    "    labels = None\n",
    "    masks  = None\n",
    "    \n",
    "    for imageFilename, flairFilename, labelFilename in zip(imageFilenames, flairFilenames, labelFilenames):\n",
    "        # Load the images\n",
    "        imageImage = sitk.ReadImage(imageFilename)\n",
    "        flairImage = sitk.ReadImage(flairFilename)\n",
    "        labelImage = sitk.ReadImage(labelFilename)\n",
    "        \n",
    "        # Convert to arrays\n",
    "        imageArray = np.pad(sitk.GetArrayFromImage(imageImage), [(0,0),(padding,padding),(padding,padding)], 'constant')\n",
    "        flairArray = np.pad(sitk.GetArrayFromImage(flairImage), [(0,0),(padding,padding),(padding,padding)], 'constant')\n",
    "        labelArray = np.pad(sitk.GetArrayFromImage(labelImage), [(0,0),(padding,padding),(padding,padding)], 'constant')\n",
    "        maskArray = labelArray > 0\n",
    "        \n",
    "        # Add to the images/labels array\n",
    "        if images is None:\n",
    "            images = imageArray.reshape([1] + list(imageArray.shape) + [1])\n",
    "            images = np.concatenate([images, flairArray.reshape([1] + list(flairArray.shape) + [1])], axis=4)\n",
    "            labels = labelArray.reshape([1] + list(labelArray.shape) + [1])\n",
    "            masks  = maskArray.reshape([1] + list(maskArray.shape) + [1])\n",
    "        else:\n",
    "            tempArray = np.concatenate([imageArray.reshape([1] + list(imageArray.shape) + [1]), flairArray.reshape([1] + list(flairArray.shape) + [1])], axis=4)\n",
    "            images = np.concatenate([images, tempArray])\n",
    "            \n",
    "            labels = np.concatenate([labels, labelArray.reshape([1] + list(labelArray.shape) + [1])])\n",
    "            masks  = np.concatenate([masks, maskArray.reshape([1] + list(maskArray.shape) + [1])])\n",
    "    \n",
    "    size = flairImage.GetSize()\n",
    "    print(size)\n",
    "    nslices = 3\n",
    "    slices = [ flairImage[:,:,s] for s in range(0, size[2], size[2]//10)]\n",
    "    myshow(sitk.Tile(slices, [10,100]))                \n",
    "    \n",
    "    return images, labels, masks"
   ]
  },
  {
   "cell_type": "code",
   "execution_count": 78,
   "metadata": {},
   "outputs": [
    {
     "ename": "UnboundLocalError",
     "evalue": "local variable 'flairImage' referenced before assignment",
     "output_type": "error",
     "traceback": [
      "\u001b[0;31m---------------------------------------------------------------------------\u001b[0m",
      "\u001b[0;31mUnboundLocalError\u001b[0m                         Traceback (most recent call last)",
      "\u001b[0;32m<ipython-input-78-d68c0396ee8d>\u001b[0m in \u001b[0;36m<module>\u001b[0;34m()\u001b[0m\n\u001b[1;32m      1\u001b[0m \u001b[0mrootPath\u001b[0m \u001b[0;34m=\u001b[0m \u001b[0;34m\"train/Amsterdam/GE3T\"\u001b[0m\u001b[0;34m\u001b[0m\u001b[0m\n\u001b[1;32m      2\u001b[0m \u001b[0mtestPath\u001b[0m \u001b[0;34m=\u001b[0m \u001b[0;34m\"train/Amsterdam/GE3T\"\u001b[0m\u001b[0;34m\u001b[0m\u001b[0m\n\u001b[0;32m----> 3\u001b[0;31m \u001b[0mtestImages\u001b[0m\u001b[0;34m,\u001b[0m \u001b[0mtestLabels\u001b[0m\u001b[0;34m,\u001b[0m \u001b[0mtestMasks\u001b[0m \u001b[0;34m=\u001b[0m \u001b[0mloadData\u001b[0m\u001b[0;34m(\u001b[0m\u001b[0mtestPath\u001b[0m\u001b[0;34m)\u001b[0m\u001b[0;34m\u001b[0m\u001b[0m\n\u001b[0m\u001b[1;32m      4\u001b[0m \u001b[0mtestNonZeroIdx\u001b[0m \u001b[0;34m=\u001b[0m \u001b[0mnp\u001b[0m\u001b[0;34m.\u001b[0m\u001b[0mnonzero\u001b[0m\u001b[0;34m(\u001b[0m\u001b[0mtestMasks\u001b[0m\u001b[0;34m)\u001b[0m\u001b[0;34m\u001b[0m\u001b[0m\n",
      "\u001b[0;32m<ipython-input-77-da840264c2bf>\u001b[0m in \u001b[0;36mloadData\u001b[0;34m(rootPath, padding)\u001b[0m\n\u001b[1;32m     33\u001b[0m             \u001b[0mmasks\u001b[0m  \u001b[0;34m=\u001b[0m \u001b[0mnp\u001b[0m\u001b[0;34m.\u001b[0m\u001b[0mconcatenate\u001b[0m\u001b[0;34m(\u001b[0m\u001b[0;34m[\u001b[0m\u001b[0mmasks\u001b[0m\u001b[0;34m,\u001b[0m \u001b[0mmaskArray\u001b[0m\u001b[0;34m.\u001b[0m\u001b[0mreshape\u001b[0m\u001b[0;34m(\u001b[0m\u001b[0;34m[\u001b[0m\u001b[0;36m1\u001b[0m\u001b[0;34m]\u001b[0m \u001b[0;34m+\u001b[0m \u001b[0mlist\u001b[0m\u001b[0;34m(\u001b[0m\u001b[0mmaskArray\u001b[0m\u001b[0;34m.\u001b[0m\u001b[0mshape\u001b[0m\u001b[0;34m)\u001b[0m \u001b[0;34m+\u001b[0m \u001b[0;34m[\u001b[0m\u001b[0;36m1\u001b[0m\u001b[0;34m]\u001b[0m\u001b[0;34m)\u001b[0m\u001b[0;34m]\u001b[0m\u001b[0;34m)\u001b[0m\u001b[0;34m\u001b[0m\u001b[0m\n\u001b[1;32m     34\u001b[0m \u001b[0;34m\u001b[0m\u001b[0m\n\u001b[0;32m---> 35\u001b[0;31m     \u001b[0msize\u001b[0m \u001b[0;34m=\u001b[0m \u001b[0mflairImage\u001b[0m\u001b[0;34m.\u001b[0m\u001b[0mGetSize\u001b[0m\u001b[0;34m(\u001b[0m\u001b[0;34m)\u001b[0m\u001b[0;34m\u001b[0m\u001b[0m\n\u001b[0m\u001b[1;32m     36\u001b[0m     \u001b[0mprint\u001b[0m\u001b[0;34m(\u001b[0m\u001b[0msize\u001b[0m\u001b[0;34m)\u001b[0m\u001b[0;34m\u001b[0m\u001b[0m\n\u001b[1;32m     37\u001b[0m     \u001b[0mnslices\u001b[0m \u001b[0;34m=\u001b[0m \u001b[0;36m3\u001b[0m\u001b[0;34m\u001b[0m\u001b[0m\n",
      "\u001b[0;31mUnboundLocalError\u001b[0m: local variable 'flairImage' referenced before assignment"
     ]
    }
   ],
   "source": [
    "rootPath = \"train/Amsterdam/GE3T\"\n",
    "testPath = \"train/Amsterdam/GE3T\"\n",
    "testImages, testLabels, testMasks = loadData(testPath)\n",
    "testNonZeroIdx = np.nonzero(testMasks)"
   ]
  },
  {
   "cell_type": "code",
   "execution_count": null,
   "metadata": {},
   "outputs": [],
   "source": [
    "testImages.shape"
   ]
  },
  {
   "cell_type": "code",
   "execution_count": null,
   "metadata": {},
   "outputs": [],
   "source": [
    "testLabels.shape"
   ]
  },
  {
   "cell_type": "code",
   "execution_count": null,
   "metadata": {},
   "outputs": [],
   "source": [
    "testMasks.shape"
   ]
  },
  {
   "cell_type": "code",
   "execution_count": 79,
   "metadata": {},
   "outputs": [
    {
     "data": {
      "text/plain": [
       "numpy.ndarray"
      ]
     },
     "execution_count": 79,
     "metadata": {},
     "output_type": "execute_result"
    }
   ],
   "source": [
    "type(testImages)"
   ]
  },
  {
   "cell_type": "code",
   "execution_count": 80,
   "metadata": {},
   "outputs": [
    {
     "data": {
      "text/plain": [
       "[16, 0, 10, 14, 4, 3, 1, 11, 2, 9]"
      ]
     },
     "execution_count": 80,
     "metadata": {},
     "output_type": "execute_result"
    }
   ],
   "source": [
    "import random\n",
    "random.sample(range(20), 10)"
   ]
  },
  {
   "cell_type": "code",
   "execution_count": 81,
   "metadata": {},
   "outputs": [
    {
     "name": "stdout",
     "output_type": "stream",
     "text": [
      "train/Amsterdam\n",
      "Amsterdam\n"
     ]
    }
   ],
   "source": [
    "import os\n",
    "path=os.path.dirname(\"train/Amsterdam/GE3T\")\n",
    "print(path)\n",
    "print(os.path.basename(path))\n"
   ]
  },
  {
   "cell_type": "code",
   "execution_count": 82,
   "metadata": {},
   "outputs": [
    {
     "ename": "FileNotFoundError",
     "evalue": "[Errno 2] No such file or directory: 'train/Utrecht'",
     "output_type": "error",
     "traceback": [
      "\u001b[0;31m---------------------------------------------------------------------------\u001b[0m",
      "\u001b[0;31mFileNotFoundError\u001b[0m                         Traceback (most recent call last)",
      "\u001b[0;32m<ipython-input-82-b00a97814d9d>\u001b[0m in \u001b[0;36m<module>\u001b[0;34m()\u001b[0m\n\u001b[0;32m----> 1\u001b[0;31m \u001b[0mlistOfFiles\u001b[0m \u001b[0;34m=\u001b[0m \u001b[0mos\u001b[0m\u001b[0;34m.\u001b[0m\u001b[0mlistdir\u001b[0m\u001b[0;34m(\u001b[0m\u001b[0;34m\"train/Utrecht\"\u001b[0m\u001b[0;34m)\u001b[0m\u001b[0;34m\u001b[0m\u001b[0m\n\u001b[0m\u001b[1;32m      2\u001b[0m \u001b[0mresult\u001b[0m \u001b[0;34m=\u001b[0m \u001b[0;34m[\u001b[0m\u001b[0mi\u001b[0m \u001b[0;32mfor\u001b[0m \u001b[0mi\u001b[0m \u001b[0;32min\u001b[0m \u001b[0mlistOfFiles\u001b[0m \u001b[0;32mif\u001b[0m \u001b[0;32mnot\u001b[0m \u001b[0mi\u001b[0m\u001b[0;34m.\u001b[0m\u001b[0mstartswith\u001b[0m\u001b[0;34m(\u001b[0m\u001b[0;34m'.'\u001b[0m\u001b[0;34m)\u001b[0m\u001b[0;34m]\u001b[0m\u001b[0;34m\u001b[0m\u001b[0m\n\u001b[1;32m      3\u001b[0m \u001b[0mprint\u001b[0m\u001b[0;34m(\u001b[0m\u001b[0mlen\u001b[0m\u001b[0;34m(\u001b[0m\u001b[0mresult\u001b[0m\u001b[0;34m)\u001b[0m\u001b[0;34m)\u001b[0m\u001b[0;34m\u001b[0m\u001b[0m\n\u001b[1;32m      4\u001b[0m \u001b[0mprint\u001b[0m\u001b[0;34m(\u001b[0m\u001b[0mresult\u001b[0m\u001b[0;34m)\u001b[0m\u001b[0;34m\u001b[0m\u001b[0m\n\u001b[1;32m      5\u001b[0m \u001b[0mrandom\u001b[0m\u001b[0;34m.\u001b[0m\u001b[0mseed\u001b[0m\u001b[0;34m(\u001b[0m\u001b[0;36m88\u001b[0m\u001b[0;34m)\u001b[0m\u001b[0;34m\u001b[0m\u001b[0m\n",
      "\u001b[0;31mFileNotFoundError\u001b[0m: [Errno 2] No such file or directory: 'train/Utrecht'"
     ]
    }
   ],
   "source": [
    "listOfFiles = os.listdir(\"train/Utrecht\")\n",
    "result = [i for i in listOfFiles if not i.startswith('.')]\n",
    "print(len(result))\n",
    "print(result)\n",
    "random.seed(88)\n",
    "random.sample(result, 5)"
   ]
  },
  {
   "cell_type": "code",
   "execution_count": 83,
   "metadata": {
    "collapsed": true
   },
   "outputs": [],
   "source": [
    "def batchTestGeneratorMasked(images, labels, nonZeroIdx, shape):  \n",
    "    idx = 0\n",
    "    while idx < len(nonZeroIdx[0]):        \n",
    "        batchImages = np.zeros(shape, dtype=np.float32)\n",
    "        batchLabels = np.zeros((shape[0], 1), dtype=np.float32)\n",
    "        \n",
    "        for i in range(shape[0]):              \n",
    "            zs = nonZeroIdx[1][idx]\n",
    "            ze = zs + 1\n",
    "            \n",
    "            ys = int(nonZeroIdx[2][idx] - 0.5*(shape[1]-1))\n",
    "            ye = int(nonZeroIdx[2][idx] + 0.5*(shape[1]-1) + 1)\n",
    "            \n",
    "            xs = int(nonZeroIdx[3][idx] - 0.5*(shape[2]-1))\n",
    "            xe = int(nonZeroIdx[3][idx] + 0.5*(shape[2]-1) + 1)            \n",
    "            \n",
    "            batchImages[i,:,:,:] = images[nonZeroIdx[0][idx], zs:ze, ys:ye, xs:xe]\n",
    "            batchLabels[i] = labels[nonZeroIdx[0][idx], nonZeroIdx[1][idx], nonZeroIdx[2][idx], nonZeroIdx[3][idx] ]\n",
    "            \n",
    "            idx += 1      \n",
    "            \n",
    "            # Check if we go beyond the image(s)\n",
    "            if idx >= len(nonZeroIdx[0]):\n",
    "                break\n",
    "        \n",
    "        # In case we have reached the last batch, crop to i+1                      \n",
    "        yield batchImages[:i+1], batchLabels[:i+1]\n",
    "    \n",
    "    return"
   ]
  },
  {
   "cell_type": "code",
   "execution_count": 119,
   "metadata": {},
   "outputs": [],
   "source": [
    "batchSize = 150\n",
    "batchShape = (batchSize, 30, 30, 2)\n",
    "iterator = batchTestGeneratorMasked(testImages, testLabels, testNonZeroIdx, batchShape)\n"
   ]
  },
  {
   "cell_type": "code",
   "execution_count": 120,
   "metadata": {},
   "outputs": [
    {
     "name": "stdout",
     "output_type": "stream",
     "text": [
      "<class 'generator'>\n"
     ]
    }
   ],
   "source": [
    "print (type(iterator))"
   ]
  },
  {
   "cell_type": "code",
   "execution_count": 121,
   "metadata": {
    "collapsed": true
   },
   "outputs": [],
   "source": [
    "def myshow(nda, title=None, margin=0.05, dpi=80):\n",
    "    #nda = sitk.GetArrayViewFromImage(img)\n",
    "    img = sitk.GetImageFromArray(nda)\n",
    "    spacing = img.GetSpacing()\n",
    "        \n",
    "    if nda.ndim == 3:\n",
    "        # fastest dim, either component or x\n",
    "        c = nda.shape[-1]\n",
    "        \n",
    "        # the the number of components is 3 or 4 consider it an RGB image\n",
    "        if not c in (3,4):\n",
    "            nda = nda[nda.shape[0]//2,:,:]\n",
    "    \n",
    "    elif nda.ndim == 4:\n",
    "        c = nda.shape[-1]\n",
    "        \n",
    "        \n",
    "        if not c in (3,4):\n",
    "            print(\"Unable to show 3D-vector Image\")\n",
    "            #raise Runtime(\"Unable to show 3D-vector Image\")\n",
    "            \n",
    "        # take a z-slice\n",
    "        nda = nda[nda.shape[0]//2,:,:,:]\n",
    "            \n",
    "    ysize = nda.shape[0]\n",
    "    xsize = nda.shape[1]\n",
    "      \n",
    "    # Make a figure big enough to accommodate an axis of xpixels by ypixels\n",
    "    # as well as the ticklabels, etc...\n",
    "    figsize = (1 + margin) * ysize / dpi, (1 + margin) * xsize / dpi\n",
    "\n",
    "    fig = plt.figure(figsize=figsize, dpi=dpi)\n",
    "    # Make the axis the right size...\n",
    "    ax = fig.add_axes([margin, margin, 1 - 2*margin, 1 - 2*margin])\n",
    "    \n",
    "    extent = (0, xsize*spacing[1], ysize*spacing[0], 0)\n",
    "    \n",
    "    t = ax.imshow(nda,extent=extent,interpolation=None)\n",
    "    \n",
    "    if nda.ndim == 2:\n",
    "        t.set_cmap(\"gray\")\n",
    "    \n",
    "    if(title):\n",
    "        plt.title(title)"
   ]
  },
  {
   "cell_type": "code",
   "execution_count": 148,
   "metadata": {
    "scrolled": true
   },
   "outputs": [
    {
     "name": "stdout",
     "output_type": "stream",
     "text": [
      "(150, 30, 30, 2)\n",
      "(30, 30, 150)\n",
      "114\n",
      "\n"
     ]
    },
    {
     "ename": "RuntimeError",
     "evalue": "Exception thrown in SimpleITK Tile: /scratch/dashboard/SimpleITK-OSX10.6-x86_64-pkg/SimpleITK/Code/Common/include/sitkMemberFunctionFactory.hxx:209:\nsitk::ERROR: Pixel type: vector of 32-bit float is not supported in 2D byN3itk6simple15TileImageFilterE",
     "output_type": "error",
     "traceback": [
      "\u001b[0;31m---------------------------------------------------------------------------\u001b[0m",
      "\u001b[0;31mRuntimeError\u001b[0m                              Traceback (most recent call last)",
      "\u001b[0;32m<ipython-input-148-6bc89a367f99>\u001b[0m in \u001b[0;36m<module>\u001b[0;34m()\u001b[0m\n\u001b[1;32m     11\u001b[0m     \u001b[0mslices2\u001b[0m \u001b[0;34m=\u001b[0m \u001b[0;34m[\u001b[0m\u001b[0mselectimage\u001b[0m\u001b[0;34m[\u001b[0m\u001b[0ms\u001b[0m\u001b[0;34m]\u001b[0m \u001b[0;32mfor\u001b[0m \u001b[0ms\u001b[0m \u001b[0;32min\u001b[0m \u001b[0mrange\u001b[0m\u001b[0;34m(\u001b[0m\u001b[0;36m0\u001b[0m\u001b[0;34m,\u001b[0m\u001b[0mlen\u001b[0m\u001b[0;34m(\u001b[0m\u001b[0mselectimage\u001b[0m\u001b[0;34m)\u001b[0m\u001b[0;34m,\u001b[0m\u001b[0mlen\u001b[0m\u001b[0;34m(\u001b[0m\u001b[0mselectimage\u001b[0m\u001b[0;34m)\u001b[0m\u001b[0;34m//\u001b[0m\u001b[0;36m10\u001b[0m\u001b[0;34m)\u001b[0m\u001b[0;34m]\u001b[0m\u001b[0;34m\u001b[0m\u001b[0m\n\u001b[1;32m     12\u001b[0m     \u001b[0mprint\u001b[0m\u001b[0;34m(\u001b[0m\u001b[0;34m)\u001b[0m\u001b[0;34m\u001b[0m\u001b[0m\n\u001b[0;32m---> 13\u001b[0;31m     \u001b[0mmyshow\u001b[0m\u001b[0;34m(\u001b[0m\u001b[0msitk\u001b[0m\u001b[0;34m.\u001b[0m\u001b[0mTile\u001b[0m\u001b[0;34m(\u001b[0m\u001b[0mslices2\u001b[0m\u001b[0;34m,\u001b[0m \u001b[0;34m[\u001b[0m\u001b[0;36m10\u001b[0m\u001b[0;34m,\u001b[0m\u001b[0;36m100\u001b[0m\u001b[0;34m]\u001b[0m\u001b[0;34m)\u001b[0m\u001b[0;34m)\u001b[0m\u001b[0;34m\u001b[0m\u001b[0m\n\u001b[0m\u001b[1;32m     14\u001b[0m     \u001b[0mresultModel\u001b[0m \u001b[0;34m=\u001b[0m \u001b[0mmodel\u001b[0m\u001b[0;34m.\u001b[0m\u001b[0mpredict_on_batch\u001b[0m\u001b[0;34m(\u001b[0m\u001b[0mpredictImages\u001b[0m\u001b[0;34m)\u001b[0m\u001b[0;34m\u001b[0m\u001b[0m\n\u001b[1;32m     15\u001b[0m     \u001b[0mresultNovelty\u001b[0m \u001b[0;34m=\u001b[0m \u001b[0mnovelty_model\u001b[0m\u001b[0;34m.\u001b[0m\u001b[0mpredict_on_batch\u001b[0m\u001b[0;34m(\u001b[0m\u001b[0mpredictImages\u001b[0m\u001b[0;34m)\u001b[0m\u001b[0;34m\u001b[0m\u001b[0m\n",
      "\u001b[0;32m/Users/jingqin/venv3/lib/python3.6/site-packages/SimpleITK/SimpleITK.py\u001b[0m in \u001b[0;36mTile\u001b[0;34m(*args)\u001b[0m\n\u001b[1;32m  67017\u001b[0m     \u001b[0mTile\u001b[0m\u001b[0;34m(\u001b[0m\u001b[0mImage\u001b[0m \u001b[0mimage1\u001b[0m\u001b[0;34m,\u001b[0m \u001b[0mImage\u001b[0m \u001b[0mimage2\u001b[0m\u001b[0;34m,\u001b[0m \u001b[0mImage\u001b[0m \u001b[0mimage3\u001b[0m\u001b[0;34m,\u001b[0m \u001b[0mImage\u001b[0m \u001b[0mimage4\u001b[0m\u001b[0;34m,\u001b[0m \u001b[0mImage\u001b[0m \u001b[0mimage5\u001b[0m\u001b[0;34m,\u001b[0m \u001b[0mVectorUInt32\u001b[0m \u001b[0mlayout\u001b[0m\u001b[0;34m,\u001b[0m \u001b[0mdouble\u001b[0m \u001b[0mdefaultPixelValue\u001b[0m\u001b[0;34m=\u001b[0m\u001b[0;36m0.0\u001b[0m\u001b[0;34m)\u001b[0m \u001b[0;34m->\u001b[0m \u001b[0mImage\u001b[0m\u001b[0;34m\u001b[0m\u001b[0m\n\u001b[1;32m  67018\u001b[0m     \"\"\"\n\u001b[0;32m> 67019\u001b[0;31m     \u001b[0;32mreturn\u001b[0m \u001b[0m_SimpleITK\u001b[0m\u001b[0;34m.\u001b[0m\u001b[0mTile\u001b[0m\u001b[0;34m(\u001b[0m\u001b[0;34m*\u001b[0m\u001b[0margs\u001b[0m\u001b[0;34m)\u001b[0m\u001b[0;34m\u001b[0m\u001b[0m\n\u001b[0m\u001b[1;32m  67020\u001b[0m \u001b[0;32mclass\u001b[0m \u001b[0mTransformToDisplacementFieldFilter\u001b[0m\u001b[0;34m(\u001b[0m\u001b[0mImageFilter_0\u001b[0m\u001b[0;34m)\u001b[0m\u001b[0;34m:\u001b[0m\u001b[0;34m\u001b[0m\u001b[0m\n\u001b[1;32m  67021\u001b[0m     \"\"\"\n",
      "\u001b[0;31mRuntimeError\u001b[0m: Exception thrown in SimpleITK Tile: /scratch/dashboard/SimpleITK-OSX10.6-x86_64-pkg/SimpleITK/Code/Common/include/sitkMemberFunctionFactory.hxx:209:\nsitk::ERROR: Pixel type: vector of 32-bit float is not supported in 2D byN3itk6simple15TileImageFilterE"
     ]
    }
   ],
   "source": [
    "i = 0\n",
    "result = None\n",
    "novelty = None\n",
    "for predictImages, predictLabels in iterator:\n",
    "    print(predictImages.shape)\n",
    "    img = sitk.GetImageFromArray(predictImages)\n",
    "    size = img.GetSize()\n",
    "    print(size)\n",
    "    selectimage = [ img[:,:,s] for s in range(size[2]//8,size[2]-size[2]//8)]\n",
    "    print(len(selectimage))\n",
    "    slices2 = [selectimage[s] for s in range(0,len(selectimage),len(selectimage)//10)]\n",
    "    print()\n",
    "    myshow(sitk.Tile(slices2, [10,100]))\n",
    "    resultModel = model.predict_on_batch(predictImages)\n",
    "    resultNovelty = novelty_model.predict_on_batch(predictImages)\n",
    "    \n",
    "    if result is None:\n",
    "        result = resultModel\n",
    "        novelty = resultNovelty\n",
    "    else:\n",
    "        result = np.concatenate([result, resultModel])\n",
    "        novelty = np.concatenate([novelty, resultNovelty])\n",
    "\n",
    "#result = model.predict_generator(iterator, len(testNonZeroIdx[0]))\n",
    "\n",
    "\n",
    "#%%\n",
    "dst = np.zeros((1, 48, 240, 240, 1), dtype=np.int8)\n",
    "dst[testMasks] = np.argmax(result, axis=1)\n",
    "for k,i in enumerate(dst):\n",
    "    a = sitk.GetImageFromArray(i[:,:,:,0])\n",
    "    sitk.WriteImage(a,'X:/wml-distance/testing/'+str(k)+'.nii') \n",
    "    print(i[:,:,:,0].shape)"
   ]
  },
  {
   "cell_type": "code",
   "execution_count": 135,
   "metadata": {},
   "outputs": [
    {
     "name": "stdout",
     "output_type": "stream",
     "text": [
      "Help on function Tile in module SimpleITK.SimpleITK:\n",
      "\n",
      "Tile(*args)\n",
      "    Tile(VectorOfImage images, VectorUInt32 layout, double defaultPixelValue=0.0) -> Image\n",
      "    Tile(Image image1, VectorUInt32 layout, double defaultPixelValue=0.0) -> Image\n",
      "    Tile(Image image1, Image image2, VectorUInt32 layout, double defaultPixelValue=0.0) -> Image\n",
      "    Tile(Image image1, Image image2, Image image3, VectorUInt32 layout, double defaultPixelValue=0.0) -> Image\n",
      "    Tile(Image image1, Image image2, Image image3, Image image4, VectorUInt32 layout, double defaultPixelValue=0.0) -> Image\n",
      "    Tile(Image image1, Image image2, Image image3, Image image4, Image image5, VectorUInt32 layout, double defaultPixelValue=0.0) -> Image\n",
      "\n"
     ]
    }
   ],
   "source": [
    "help(sitk.Tile)"
   ]
  },
  {
   "cell_type": "code",
   "execution_count": null,
   "metadata": {
    "collapsed": true
   },
   "outputs": [],
   "source": []
  }
 ],
 "metadata": {
  "kernelspec": {
   "display_name": "Python 3",
   "language": "python",
   "name": "python3"
  },
  "language_info": {
   "codemirror_mode": {
    "name": "ipython",
    "version": 3
   },
   "file_extension": ".py",
   "mimetype": "text/x-python",
   "name": "python",
   "nbconvert_exporter": "python",
   "pygments_lexer": "ipython3",
   "version": "3.6.1"
  }
 },
 "nbformat": 4,
 "nbformat_minor": 2
}
