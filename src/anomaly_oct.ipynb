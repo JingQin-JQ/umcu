{
 "cells": [
  {
   "cell_type": "markdown",
   "metadata": {},
   "source": [
    "# Check GPU is online"
   ]
  },
  {
   "cell_type": "code",
   "execution_count": 69,
   "metadata": {},
   "outputs": [
    {
     "data": {
      "text/plain": [
       "'/device:GPU:0'"
      ]
     },
     "execution_count": 69,
     "metadata": {},
     "output_type": "execute_result"
    }
   ],
   "source": [
    "import tensorflow as tf\n",
    "tf.Session(config=tf.ConfigProto(log_device_placement=True))\n",
    "tf.test.gpu_device_name()"
   ]
  },
  {
   "cell_type": "markdown",
   "metadata": {},
   "source": [
    "## Data understanding"
   ]
  },
  {
   "cell_type": "code",
   "execution_count": 45,
   "metadata": {},
   "outputs": [],
   "source": [
    "import glob\n",
    "import numpy as np\n",
    "import os\n",
    "import SimpleITK as sitk\n",
    "from scipy.stats import itemfreq"
   ]
  },
  {
   "cell_type": "code",
   "execution_count": 11,
   "metadata": {},
   "outputs": [],
   "source": [
    "rootPath = \"Z:/VoorJing/training\"\n",
    "testPath = \"Z:/VoorJing/testing\""
   ]
  },
  {
   "cell_type": "code",
   "execution_count": 12,
   "metadata": {},
   "outputs": [],
   "source": [
    "def loadData( rootPath, padding= 25 ):\n",
    "    \n",
    "    imageFilenames = glob.glob(os.path.join(rootPath, \"*\", \"mri\", \"miT1W_3D_TFE.nii\"))\n",
    "    if len(imageFilenames) == 0: # Load a single subject\n",
    "        imageFilenames = glob.glob(os.path.join(rootPath, \"mri\", \"miT1W_3D_TFE.nii\"))        \n",
    "    \n",
    "    flairFilenames = [x.replace('mri\\\\miT1W_3D_TFE', 'features\\\\T2_FLAIR') for x in imageFilenames]\n",
    "    labelFilenames = [x.replace('mri\\\\miT1W_3D_TFE', 'features\\\\labels') for x in imageFilenames]\n",
    "    \n",
    "    images = None # shape: (numImages, z, y, x, channels=1)\n",
    "    labels = None\n",
    "    masks  = None\n",
    "    \n",
    "    for imageFilename, flairFilename, labelFilename in zip(imageFilenames, flairFilenames, labelFilenames):\n",
    "        # Load the images\n",
    "        imageImage = sitk.ReadImage(imageFilename)\n",
    "        flairImage = sitk.ReadImage(flairFilename)\n",
    "        labelImage = sitk.ReadImage(labelFilename)\n",
    "        # Convert to arrays\n",
    "        imageArray = np.pad(sitk.GetArrayFromImage(imageImage), [(0,0),(padding,padding),(padding,padding)], 'constant')\n",
    "        flairArray = np.pad(sitk.GetArrayFromImage(flairImage), [(0,0),(padding,padding),(padding,padding)], 'constant')\n",
    "        labelArray = np.pad(sitk.GetArrayFromImage(labelImage), [(0,0),(padding,padding),(padding,padding)], 'constant')\n",
    "        maskArray = labelArray > 0\n",
    "        \n",
    "        # Add to the images/labels array\n",
    "        if images is None:\n",
    "            images = imageArray.reshape([1] + list(imageArray.shape) + [1])\n",
    "            images = np.concatenate([images, flairArray.reshape([1] + list(flairArray.shape) + [1])], axis=4)\n",
    "            labels = labelArray.reshape([1] + list(labelArray.shape) + [1])\n",
    "            masks  = maskArray.reshape([1] + list(maskArray.shape) + [1])\n",
    "        else:\n",
    "            tempArray = np.concatenate([imageArray.reshape([1] + list(imageArray.shape) + [1]), flairArray.reshape([1] + list(flairArray.shape) + [1])], axis=4)\n",
    "            images = np.concatenate([images, tempArray])\n",
    "            \n",
    "            labels = np.concatenate([labels, labelArray.reshape([1] + list(labelArray.shape) + [1])])\n",
    "            masks  = np.concatenate([masks, maskArray.reshape([1] + list(maskArray.shape) + [1])])              \n",
    "    return images, labels, masks"
   ]
  },
  {
   "cell_type": "code",
   "execution_count": 13,
   "metadata": {},
   "outputs": [],
   "source": [
    "images,labels, masks = loadData(rootPath, padding=25)\n",
    "nonZeroIdx = np.nonzero(masks)"
   ]
  },
  {
   "cell_type": "code",
   "execution_count": null,
   "metadata": {},
   "outputs": [],
   "source": []
  },
  {
   "cell_type": "code",
   "execution_count": 14,
   "metadata": {},
   "outputs": [
    {
     "name": "stderr",
     "output_type": "stream",
     "text": [
      "C:\\Users\\Jing\\Anaconda3\\envs\\jing\\lib\\site-packages\\ipykernel_launcher.py:1: DeprecationWarning: `itemfreq` is deprecated!\n",
      "`itemfreq` is deprecated and will be removed in a future version. Use instead `np.unique(..., return_counts=True)`\n",
      "  \"\"\"Entry point for launching an IPython kernel.\n"
     ]
    },
    {
     "name": "stdout",
     "output_type": "stream",
     "text": [
      "labels:\n",
      " [[       0 53269774]\n",
      " [       1  2039968]\n",
      " [       2  2720616]\n",
      " [       3  2006776]\n",
      " [       4   178135]\n",
      " [       5    34320]\n",
      " [       7   159740]\n",
      " [       8       34]\n",
      " [      10   142631]\n",
      " [      13        6]]\n"
     ]
    }
   ],
   "source": [
    "print(\"labels:\\n\",itemfreq(labels.astype(int)))"
   ]
  },
  {
   "cell_type": "code",
   "execution_count": 15,
   "metadata": {},
   "outputs": [],
   "source": [
    "testImages, testLabels, testMasks = loadData(testPath, padding=25)\n",
    "testNonZeroIdx = np.nonzero(testMasks)"
   ]
  },
  {
   "cell_type": "code",
   "execution_count": 16,
   "metadata": {},
   "outputs": [
    {
     "name": "stderr",
     "output_type": "stream",
     "text": [
      "C:\\Users\\Jing\\Anaconda3\\envs\\jing\\lib\\site-packages\\ipykernel_launcher.py:1: DeprecationWarning: `itemfreq` is deprecated!\n",
      "`itemfreq` is deprecated and will be removed in a future version. Use instead `np.unique(..., return_counts=True)`\n",
      "  \"\"\"Entry point for launching an IPython kernel.\n"
     ]
    },
    {
     "name": "stdout",
     "output_type": "stream",
     "text": [
      "testLabels:\n",
      " [[       0 17812550]\n",
      " [       1   613180]\n",
      " [       2   890849]\n",
      " [       3   628786]\n",
      " [       4    90766]\n",
      " [       5    42917]\n",
      " [       7    57516]\n",
      " [      10    47436]]\n"
     ]
    }
   ],
   "source": [
    "print(\"testLabels:\\n\",itemfreq(testLabels.astype(int)))"
   ]
  },
  {
   "cell_type": "markdown",
   "metadata": {},
   "source": [
    "## Balenced sample"
   ]
  },
  {
   "cell_type": "code",
   "execution_count": 44,
   "metadata": {},
   "outputs": [],
   "source": [
    "import pickle"
   ]
  },
  {
   "cell_type": "code",
   "execution_count": 12,
   "metadata": {},
   "outputs": [],
   "source": [
    "train_classed =[np.nonzero(labels == x) for x in np.unique(labels)]\n",
    "test_classed =[np.nonzero(testLabels == x) for x in np.unique(testLabels)]"
   ]
  },
  {
   "cell_type": "code",
   "execution_count": 13,
   "metadata": {},
   "outputs": [
    {
     "data": {
      "text/plain": [
       "(array([2, 2, 2, 2, 2, 2, 2, 2, 2, 2, 2, 2, 2, 2, 2, 2, 2, 2, 2, 2, 2, 2,\n",
       "        2, 2, 2, 2, 2, 2, 2, 2, 2, 2, 2, 2], dtype=int64),\n",
       " array([40, 40, 40, 40, 40, 40, 40, 40, 40, 40, 40, 40, 40, 41, 41, 41, 41,\n",
       "        41, 41, 41, 41, 41, 41, 41, 41, 41, 41, 41, 41, 41, 41, 41, 41, 41],\n",
       "       dtype=int64),\n",
       " array([185, 185, 185, 186, 186, 186, 186, 186, 187, 187, 187, 187, 187,\n",
       "        185, 185, 185, 185, 185, 185, 186, 186, 186, 186, 186, 186, 186,\n",
       "        187, 187, 187, 187, 187, 187, 188, 188], dtype=int64),\n",
       " array([176, 177, 178, 174, 175, 176, 177, 178, 173, 174, 175, 176, 177,\n",
       "        167, 168, 169, 170, 171, 172, 166, 167, 168, 169, 170, 171, 172,\n",
       "        165, 166, 167, 170, 171, 172, 165, 166], dtype=int64),\n",
       " array([0, 0, 0, 0, 0, 0, 0, 0, 0, 0, 0, 0, 0, 0, 0, 0, 0, 0, 0, 0, 0, 0,\n",
       "        0, 0, 0, 0, 0, 0, 0, 0, 0, 0, 0, 0], dtype=int64))"
      ]
     },
     "execution_count": 13,
     "metadata": {},
     "output_type": "execute_result"
    }
   ],
   "source": [
    "train_classed[7]"
   ]
  },
  {
   "cell_type": "code",
   "execution_count": 14,
   "metadata": {},
   "outputs": [
    {
     "data": {
      "text/plain": [
       "(array([12, 12, 12, 12, 12, 12], dtype=int64),\n",
       " array([18, 18, 18, 27, 27, 27], dtype=int64),\n",
       " array([ 90,  91,  91, 121, 122, 122], dtype=int64),\n",
       " array([124, 123, 124, 120, 120, 121], dtype=int64),\n",
       " array([0, 0, 0, 0, 0, 0], dtype=int64))"
      ]
     },
     "execution_count": 14,
     "metadata": {},
     "output_type": "execute_result"
    }
   ],
   "source": [
    "train_classed[9]"
   ]
  },
  {
   "cell_type": "code",
   "execution_count": 15,
   "metadata": {},
   "outputs": [],
   "source": [
    "del train_classed[9]\n",
    "del train_classed[7]"
   ]
  },
  {
   "cell_type": "code",
   "execution_count": 16,
   "metadata": {},
   "outputs": [],
   "source": [
    "train_classed = np.array(train_classed)\n",
    "test_classed = np.array(test_classed)"
   ]
  },
  {
   "cell_type": "code",
   "execution_count": 17,
   "metadata": {},
   "outputs": [
    {
     "name": "stdout",
     "output_type": "stream",
     "text": [
      "(8, 5)\n",
      "(8, 5)\n"
     ]
    }
   ],
   "source": [
    "print(train_classed.shape)\n",
    "print(test_classed.shape)"
   ]
  },
  {
   "cell_type": "code",
   "execution_count": 18,
   "metadata": {},
   "outputs": [],
   "source": [
    "pickle.dump( train_classed,  open( 'train_classed.pickle', 'wb' ) )\n",
    "pickle.dump( test_classed ,  open( 'test_classed.pickle', 'wb' ) )"
   ]
  },
  {
   "cell_type": "markdown",
   "metadata": {},
   "source": [
    "## Segmentation"
   ]
  },
  {
   "cell_type": "code",
   "execution_count": 19,
   "metadata": {},
   "outputs": [],
   "source": [
    "with open(\"train_classed.pickle\", 'rb') as f:\n",
    "    train_classed = pickle.load(f)\n",
    "with open(\"test_classed.pickle\", 'rb') as f:\n",
    "    test_classed = pickle.load(f)"
   ]
  },
  {
   "cell_type": "code",
   "execution_count": 43,
   "metadata": {},
   "outputs": [],
   "source": [
    "import matplotlib.pyplot as plt \n",
    "\n",
    "import keras\n",
    "from keras.datasets import mnist\n",
    "from keras.models import Sequential\n",
    "from keras.layers import Dense, Dropout, Flatten\n",
    "from keras.layers import Conv2D, MaxPooling2D, BatchNormalization\n",
    "from keras import backend as K\n",
    "\n",
    "import datetime\n",
    "import platform\n",
    "import pandas as pd\n",
    "from sklearn.utils import shuffle"
   ]
  },
  {
   "cell_type": "code",
   "execution_count": 21,
   "metadata": {},
   "outputs": [],
   "source": [
    "batchSize = 70\n",
    "batchShape = (batchSize, 51, 51, 2)\n",
    "rs = np.random.RandomState(354351)\n",
    "num_classes = 14"
   ]
  },
  {
   "cell_type": "code",
   "execution_count": 57,
   "metadata": {},
   "outputs": [],
   "source": [
    "def batchGeneratorMaskedbalenced(images, labels, nonZeroIdx, data_classed, shape, rs=np.random):    \n",
    "    while True:\n",
    "        batchImages = np.zeros(shape, dtype=np.float32)\n",
    "        batchLabels = np.zeros((shape[0], 1), dtype=np.float32)\n",
    "        n_label = shape[0]//(len(data_classed)-1)\n",
    "#         print(\"shape[0]\",shape[0])\n",
    "#         print(\"len(data_classed)\",len(data_classed))\n",
    "#         print(\"n_label\",n_label)\n",
    "        for c in range(1, len(data_classed)):\n",
    "            sampleIdx = rs.randint(0, len(data_classed[c][0]), n_label)\n",
    "#             print(c)\n",
    "#             print(sampleIdx)\n",
    "#             print(data_classed[c])\n",
    "#             print(train_classed[9][3])\n",
    "#             print(train_classed[9][3][sampleIdx[idx]])\n",
    "#             print(\"sampleIdx\",sampleIdx)\n",
    "#             print(\"shape\",len(nonZeroIdx[0]))\n",
    "            for idx in range(len(sampleIdx)):\n",
    "\n",
    "                zs = data_classed[c][1][sampleIdx[idx]]\n",
    "                ze = zs + 1\n",
    "\n",
    "                ys = int(data_classed[c][2][sampleIdx[idx]] - 0.5*(shape[1]-1))\n",
    "                ye = int(data_classed[c][2][sampleIdx[idx]] + 0.5*(shape[1]-1) + 1)\n",
    "\n",
    "                xs = int(data_classed[c][3][sampleIdx[idx]] - 0.5*(shape[2]-1))\n",
    "                xe = int(data_classed[c][3][sampleIdx[idx]] + 0.5*(shape[2]-1) + 1)            \n",
    "#                 print(\"sampleIdx\",sampleIdx)\n",
    "#                 print(\"idx\",idx)\n",
    "#                 print(\"data_classed[c]\",data_classed[c])\n",
    "#                 print(\"data_classed[c][0]\",data_classed[c][0])\n",
    "#                 print(\"data_classed[c][0][sampleIdx[idx]]\",data_classed[c][0][sampleIdx[idx]])\n",
    "#                 print(\"data_classed[c][0][sampleIdx[idx]]\",data_classed[c][0][sampleIdx[idx]])\n",
    "#                 print(\"images.shape\",images.shape)\n",
    "                try:\n",
    "#                     print((c-1)*n_label+idx)\n",
    "                    batchImages[(c-1)*n_label+idx,:,:,:] = images[data_classed[c][0][sampleIdx[idx]], zs:ze, ys:ye, xs:xe]\n",
    "                    batchLabels[(c-1)*n_label+idx] = labels[data_classed[c][0][sampleIdx[idx]], data_classed[c][1][sampleIdx[idx]], data_classed[c][2][sampleIdx[idx]], data_classed[c][3][sampleIdx[idx]] ]\n",
    "                except:\n",
    "                    print(xs,xe,ys,ye,zs,ze)    \n",
    "                    raise\n",
    "#             print(\"lll\")\n",
    "#         print(batchImages.shape)\n",
    "#         print(batchImages[54])\n",
    "        batchImages, batchLabels = shuffle( batchImages, batchLabels)                            \n",
    "        yield batchImages, batchLabels"
   ]
  },
  {
   "cell_type": "code",
   "execution_count": 24,
   "metadata": {},
   "outputs": [
    {
     "data": {
      "text/plain": [
       "<generator object batchGeneratorMaskedbalenced at 0x00000255E78A1DB0>"
      ]
     },
     "execution_count": 24,
     "metadata": {},
     "output_type": "execute_result"
    }
   ],
   "source": [
    "batchGeneratorMaskedbalenced(images, labels, nonZeroIdx, train_classed, batchShape, rs)"
   ]
  },
  {
   "cell_type": "code",
   "execution_count": 59,
   "metadata": {},
   "outputs": [
    {
     "name": "stdout",
     "output_type": "stream",
     "text": [
      "_________________________________________________________________\n",
      "Layer (type)                 Output Shape              Param #   \n",
      "=================================================================\n",
      "conv2d_79 (Conv2D)           (None, 49, 49, 32)        608       \n",
      "_________________________________________________________________\n",
      "batch_normalization_105 (Bat (None, 49, 49, 32)        128       \n",
      "_________________________________________________________________\n",
      "conv2d_80 (Conv2D)           (None, 47, 47, 32)        9248      \n",
      "_________________________________________________________________\n",
      "batch_normalization_106 (Bat (None, 47, 47, 32)        128       \n",
      "_________________________________________________________________\n",
      "max_pooling2d_40 (MaxPooling (None, 23, 23, 32)        0         \n",
      "_________________________________________________________________\n",
      "conv2d_81 (Conv2D)           (None, 21, 21, 32)        9248      \n",
      "_________________________________________________________________\n",
      "batch_normalization_107 (Bat (None, 21, 21, 32)        128       \n",
      "_________________________________________________________________\n",
      "conv2d_82 (Conv2D)           (None, 19, 19, 32)        9248      \n",
      "_________________________________________________________________\n",
      "batch_normalization_108 (Bat (None, 19, 19, 32)        128       \n",
      "_________________________________________________________________\n",
      "max_pooling2d_41 (MaxPooling (None, 9, 9, 32)          0         \n",
      "_________________________________________________________________\n",
      "conv2d_83 (Conv2D)           (None, 7, 7, 32)          9248      \n",
      "_________________________________________________________________\n",
      "batch_normalization_109 (Bat (None, 7, 7, 32)          128       \n",
      "_________________________________________________________________\n",
      "conv2d_84 (Conv2D)           (None, 5, 5, 32)          9248      \n",
      "_________________________________________________________________\n",
      "batch_normalization_110 (Bat (None, 5, 5, 32)          128       \n",
      "_________________________________________________________________\n",
      "max_pooling2d_42 (MaxPooling (None, 2, 2, 32)          0         \n",
      "_________________________________________________________________\n",
      "flatten_14 (Flatten)         (None, 128)               0         \n",
      "_________________________________________________________________\n",
      "dense_40 (Dense)             (None, 64)                8256      \n",
      "_________________________________________________________________\n",
      "batch_normalization_111 (Bat (None, 64)                256       \n",
      "_________________________________________________________________\n",
      "dense_41 (Dense)             (None, 64)                4160      \n",
      "_________________________________________________________________\n",
      "batch_normalization_112 (Bat (None, 64)                256       \n",
      "_________________________________________________________________\n",
      "dense_42 (Dense)             (None, 14)                910       \n",
      "=================================================================\n",
      "Total params: 61,454\n",
      "Trainable params: 60,814\n",
      "Non-trainable params: 640\n",
      "_________________________________________________________________\n"
     ]
    }
   ],
   "source": [
    "#%%\n",
    "model = Sequential()\n",
    "model.add(Conv2D(32, kernel_size=(3, 3),\n",
    "                 activation='relu',\n",
    "                 input_shape=batchShape[1:]))\n",
    "model.add(BatchNormalization())\n",
    "model.add(Conv2D(32, (3, 3), activation='relu'))\n",
    "model.add(BatchNormalization())\n",
    "model.add(MaxPooling2D(pool_size=(2, 2)))\n",
    "model.add(Conv2D(32, (3, 3), activation='relu'))\n",
    "model.add(BatchNormalization())\n",
    "model.add(Conv2D(32, (3, 3), activation='relu'))\n",
    "model.add(BatchNormalization())\n",
    "model.add(MaxPooling2D(pool_size=(2, 2)))\n",
    "model.add(Conv2D(32, (3, 3), activation='relu'))\n",
    "model.add(BatchNormalization())\n",
    "model.add(Conv2D(32, (3, 3), activation='relu'))\n",
    "model.add(BatchNormalization())\n",
    "model.add(MaxPooling2D(pool_size=(2, 2)))\n",
    "model.add(Flatten())\n",
    "model.add(Dense(64, activation='relu'))\n",
    "model.add(BatchNormalization())\n",
    "#model.add(Dropout(0.5))\n",
    "model.add(Dense(64, activation='relu'))\n",
    "model.add(BatchNormalization())\n",
    "\n",
    "#model.add(Dropout(0.5))\n",
    "model.add(Dense(num_classes, activation='softmax'))\n",
    "\n",
    "\n",
    "model.compile(loss=keras.losses.categorical_crossentropy,\n",
    "              #optimizer=keras.optimizers.Adadelta(),\n",
    "              optimizer=keras.optimizers.Adam(),\n",
    "              metrics=['accuracy'])\n",
    "\n",
    "model.summary()\n",
    "\n",
    "#%%\n",
    "\n",
    "#iterator = batchGenerator(images, labels, batchShape, rs)\n",
    "iterator = batchGeneratorMaskedbalenced(images, labels, nonZeroIdx, train_classed, batchShape, rs)\n",
    "tbCallBack = keras.callbacks.TensorBoard(log_dir='D:/tensorflow_log/train', \n",
    "                                         histogram_freq=0, write_graph=True, write_images=True)\n",
    "\n",
    "df = None\n",
    "max_iters = 100000\n",
    "for idx, (x_train, y_train) in enumerate(iterator):\n",
    "    y_train = keras.utils.to_categorical(y_train, num_classes)\n",
    "    \n",
    "    if idx % 5000 == 0:\n",
    "        x_test, y_test = next(batchGeneratorMaskedbalenced(testImages, testLabels, testNonZeroIdx, test_classed, batchShape))\n",
    "        y_test = keras.utils.to_categorical(y_test, num_classes)        \n",
    "        \n",
    "        score = model.fit(x_train, y_train,\n",
    "                  batch_size=batchSize,\n",
    "                  verbose=0,\n",
    "                  validation_data=(x_test, y_test),\n",
    "                  )\n",
    "        \n",
    "        score.history['idx']= idx\n",
    "        \n",
    "        if df is None:\n",
    "            df = pd.DataFrame.from_dict(score.history)\n",
    "        else:\n",
    "            df = df.append(pd.DataFrame.from_dict(score.history))\n",
    "            \n",
    "        # Store the params\n",
    "        model.save('C:/Users/Jing/Documents/umcu/src/model/cnn_brain_segmentation_model_balenced_' \n",
    "                   + datetime.datetime.today().strftime('%Y%m%d_%H%M%S') + '_idx.h5')\n",
    "                \n",
    "        plt.plot(df.idx, df.acc, df.idx, df.val_acc, df.idx, df.acc.rolling(10).mean(), df.idx, df.val_acc.rolling(10).mean())\n",
    "        try:\n",
    "            plt.savefig('D:/tensorflow_log/train.png', dpi=200)\n",
    "            plt.close()\n",
    "        except:\n",
    "            pass\n",
    "    else:\n",
    "        model.fit(x_train, y_train,\n",
    "                  batch_size=batchSize,\n",
    "                  verbose=0,\n",
    "                  )\n",
    "    \n",
    "    if idx == max_iters:\n",
    "        break\n",
    "\n",
    "#11.42 gestart\n",
    "model.save('C:/Users/Jing/Documents/umcu/src/model/cnn_brain_segmentation_model_balenced_' \n",
    "           + datetime.datetime.today().strftime('%Y%m%d_%H%M%S') + '.h5')"
   ]
  },
  {
   "cell_type": "markdown",
   "metadata": {},
   "source": [
    "## apply model"
   ]
  },
  {
   "cell_type": "code",
   "execution_count": 22,
   "metadata": {},
   "outputs": [],
   "source": [
    "from keras.models import Model, Sequential"
   ]
  },
  {
   "cell_type": "code",
   "execution_count": 141,
   "metadata": {},
   "outputs": [],
   "source": [
    "def batchTestGeneratorMasked(images, labels, nonZeroIdx, shape):  \n",
    "    idx = 0\n",
    "    while idx < len(nonZeroIdx[0]):        \n",
    "        batchImages = np.zeros(shape, dtype=np.float32)\n",
    "        batchLabels = np.zeros((shape[0], 1), dtype=np.float32)\n",
    "        for i in range(shape[0]):              \n",
    "            zs = nonZeroIdx[1][idx]\n",
    "            ze = zs + 1\n",
    "            \n",
    "            ys = int(nonZeroIdx[2][idx] - 0.5*(shape[1]-1))\n",
    "            ye = int(nonZeroIdx[2][idx] + 0.5*(shape[1]-1) + 1)\n",
    "            \n",
    "            xs = int(nonZeroIdx[3][idx] - 0.5*(shape[2]-1))\n",
    "            xe = int(nonZeroIdx[3][idx] + 0.5*(shape[2]-1) + 1)            \n",
    "            \n",
    "            batchImages[i,:,:,:] = images[nonZeroIdx[0][idx], zs:ze, ys:ye, xs:xe]\n",
    "            \n",
    "            batchLabels[i] = labels[nonZeroIdx[0][idx], nonZeroIdx[1][idx], nonZeroIdx[2][idx], nonZeroIdx[3][idx] ]\n",
    "            \n",
    "            idx += 1      \n",
    "            \n",
    "            # Check if we go beyond the image(s)\n",
    "            if idx >= len(nonZeroIdx[0]):\n",
    "                break\n",
    "        \n",
    "        # In case we have reached the last batch, crop to i+1                      \n",
    "        yield batchImages[:i+1], batchLabels[:i+1]\n",
    "    \n",
    "    return"
   ]
  },
  {
   "cell_type": "code",
   "execution_count": 64,
   "metadata": {},
   "outputs": [
    {
     "name": "stdout",
     "output_type": "stream",
     "text": [
      "2000\n",
      "4000\n",
      "6000\n",
      "8000\n",
      "10000\n",
      "12000\n",
      "14000\n"
     ]
    }
   ],
   "source": [
    "batchSize = 150\n",
    "batchShape = (batchSize, 51, 51, 2)\n",
    "# testPath = \"Z:/VoorJing/extra-test\"\n",
    "   \n",
    "testImages, testLabels, testMasks = loadData(testPath)\n",
    "testNonZeroIdx = np.nonzero(testMasks)\n",
    "\n",
    "model = keras.models.load_model(\"C:/Users/Jing/Documents/umcu/src/model/cnn_brain_segmentation_model_balenced_20181019_174700.h5\")\n",
    "novelty_model = Model(inputs=model.input, outputs=model.get_layer(\"dense_41\").output)\n",
    "\n",
    "\n",
    "iterator = batchTestGeneratorMasked(testImages, testLabels, testNonZeroIdx, batchShape)\n",
    "\n",
    "i = 0\n",
    "r = 0\n",
    "result = None\n",
    "novelty = None\n",
    "\n",
    "for predictImages, predictLabels in iterator:\n",
    "    resultModel = model.predict_on_batch(predictImages)\n",
    "    resultNovelty = novelty_model.predict_on_batch(predictImages)\n",
    "    \n",
    "    if result is None:\n",
    "        result = resultModel\n",
    "        novelty = resultNovelty\n",
    "    else:\n",
    "        result = np.concatenate([result, resultModel])\n",
    "        novelty = np.concatenate([novelty, resultNovelty])\n",
    "        r+=1\n",
    "        if r%2000==0:\n",
    "            print (r)"
   ]
  },
  {
   "cell_type": "code",
   "execution_count": 69,
   "metadata": {},
   "outputs": [],
   "source": [
    "pickle.dump( result,  open( 'model_20181022_balanced_100000.pickle', 'wb' ) )\n",
    "pickle.dump( novelty ,  open( 'novelty_20181022_balanced_100000.pickle', 'wb' ) )"
   ]
  },
  {
   "cell_type": "code",
   "execution_count": 39,
   "metadata": {},
   "outputs": [],
   "source": [
    "def myshow(img, title=None, margin=0.05, dpi=100):\n",
    "    nda = sitk.GetArrayViewFromImage(img)\n",
    "    spacing = img.GetSpacing()\n",
    "        \n",
    "    if nda.ndim == 3:\n",
    "        # fastest dim, either component or x\n",
    "        c = nda.shape[-1]\n",
    "        \n",
    "        # the the number of components is 3 or 4 consider it an RGB image\n",
    "        if not c in (3,4):\n",
    "            nda = nda[nda.shape[0]//2,:,:]\n",
    "    \n",
    "    elif nda.ndim == 4:\n",
    "        c = nda.shape[-1]\n",
    "        \n",
    "        if not c in (3,4):\n",
    "            raise Runtime(\"Unable to show 3D-vector Image\")\n",
    "            \n",
    "        # take a z-slice\n",
    "        nda = nda[nda.shape[0]//2,:,:,:]\n",
    "            \n",
    "    ysize = nda.shape[0]\n",
    "    xsize = nda.shape[1]\n",
    "      \n",
    "    # Make a figure big enough to accommodate an axis of xpixels by ypixels\n",
    "    # as well as the ticklabels, etc...\n",
    "    figsize = (4 + margin) * ysize / dpi, (4 + margin) * xsize / dpi\n",
    "\n",
    "    fig = plt.figure(figsize=figsize, dpi=dpi)\n",
    "    # Make the axis the right size...\n",
    "    ax = fig.add_axes([margin, margin, 1 - 2*margin, 1 - 2*margin])\n",
    "   \n",
    "    extent = (0, xsize*spacing[1], ysize*spacing[0], 0)\n",
    "    \n",
    "    t = ax.imshow(nda,extent=extent,interpolation=None)\n",
    "    \n",
    "    if nda.ndim == 2:\n",
    "        t.set_cmap(\"gray\")\n",
    "    \n",
    "    if(title):\n",
    "        plt.title(title)"
   ]
  },
  {
   "cell_type": "code",
   "execution_count": 66,
   "metadata": {},
   "outputs": [
    {
     "name": "stdout",
     "output_type": "stream",
     "text": [
      "(48, 290, 290)\n",
      "(48, 290, 290)\n",
      "(48, 290, 290)\n",
      "(48, 290, 290)\n",
      "(48, 290, 290)\n"
     ]
    },
    {
     "data": {
      "image/png": "[encoded data removed]",
      "text/plain": [
       "<Figure size 1174.5x1174.5 with 1 Axes>"
      ]
     },
     "metadata": {
      "needs_background": "light"
     },
     "output_type": "display_data"
    },
    {
     "data": {
      "image/png": "[encoded data removed]",
      "text/plain": [
       "<Figure size 1174.5x1174.5 with 1 Axes>"
      ]
     },
     "metadata": {
      "needs_background": "light"
     },
     "output_type": "display_data"
    },
    {
     "data": {
      "image/png": "[encoded data removed]",
      "text/plain": [
       "<Figure size 1174.5x1174.5 with 1 Axes>"
      ]
     },
     "metadata": {
      "needs_background": "light"
     },
     "output_type": "display_data"
    },
    {
     "data": {
      "image/png": "[encoded data removed]",
      "text/plain": [
       "<Figure size 1174.5x1174.5 with 1 Axes>"
      ]
     },
     "metadata": {
      "needs_background": "light"
     },
     "output_type": "display_data"
    },
    {
     "data": {
      "image/png": "[encoded data removed]",
      "text/plain": [
       "<Figure size 1174.5x1174.5 with 1 Axes>"
      ]
     },
     "metadata": {
      "needs_background": "light"
     },
     "output_type": "display_data"
    }
   ],
   "source": [
    "dst = np.zeros((5, 48, 290, 290, 1), dtype=np.int8)\n",
    "dst[testMasks] = np.argmax(result, axis=1)\n",
    "for k,i in enumerate(dst):\n",
    "    a = sitk.GetImageFromArray(i[:,:,:,0])\n",
    "    myshow(a)\n",
    "    sitk.WriteImage(a,'C:/Users/Jing/Documents/umcu/src/model/balanced_3_'+str(k)+'.nii') \n",
    "    print(i[:,:,:,0].shape)"
   ]
  },
  {
   "cell_type": "markdown",
   "metadata": {},
   "source": [
    "## Segmentation evaluation"
   ]
  },
  {
   "cell_type": "code",
   "execution_count": 23,
   "metadata": {},
   "outputs": [],
   "source": [
    "from scipy.stats import itemfreq\n",
    "from sklearn.metrics import confusion_matrix, classification_report\n",
    "import seaborn as sns"
   ]
  },
  {
   "cell_type": "code",
   "execution_count": null,
   "metadata": {},
   "outputs": [],
   "source": []
  },
  {
   "cell_type": "code",
   "execution_count": 24,
   "metadata": {},
   "outputs": [
    {
     "ename": "NameError",
     "evalue": "name 'result' is not defined",
     "output_type": "error",
     "traceback": [
      "\u001b[1;31m---------------------------------------------------------------------------\u001b[0m",
      "\u001b[1;31mNameError\u001b[0m                                 Traceback (most recent call last)",
      "\u001b[1;32m<ipython-input-24-c895a3c72a76>\u001b[0m in \u001b[0;36m<module>\u001b[1;34m\u001b[0m\n\u001b[0;32m      5\u001b[0m \u001b[1;31m#     result = pickle.load(f)\u001b[0m\u001b[1;33m\u001b[0m\u001b[1;33m\u001b[0m\u001b[0m\n\u001b[0;32m      6\u001b[0m \u001b[0mdst\u001b[0m \u001b[1;33m=\u001b[0m \u001b[0mnp\u001b[0m\u001b[1;33m.\u001b[0m\u001b[0mzeros\u001b[0m\u001b[1;33m(\u001b[0m\u001b[1;33m(\u001b[0m\u001b[1;36m5\u001b[0m\u001b[1;33m,\u001b[0m \u001b[1;36m48\u001b[0m\u001b[1;33m,\u001b[0m \u001b[1;36m290\u001b[0m\u001b[1;33m,\u001b[0m \u001b[1;36m290\u001b[0m\u001b[1;33m,\u001b[0m \u001b[1;36m1\u001b[0m\u001b[1;33m)\u001b[0m\u001b[1;33m,\u001b[0m \u001b[0mdtype\u001b[0m\u001b[1;33m=\u001b[0m\u001b[0mnp\u001b[0m\u001b[1;33m.\u001b[0m\u001b[0mint8\u001b[0m\u001b[1;33m)\u001b[0m\u001b[1;33m\u001b[0m\u001b[0m\n\u001b[1;32m----> 7\u001b[1;33m \u001b[0mdst\u001b[0m\u001b[1;33m[\u001b[0m\u001b[0mtestMasks\u001b[0m\u001b[1;33m]\u001b[0m \u001b[1;33m=\u001b[0m \u001b[0mnp\u001b[0m\u001b[1;33m.\u001b[0m\u001b[0margmax\u001b[0m\u001b[1;33m(\u001b[0m\u001b[0mresult\u001b[0m\u001b[1;33m,\u001b[0m \u001b[0maxis\u001b[0m\u001b[1;33m=\u001b[0m\u001b[1;36m1\u001b[0m\u001b[1;33m)\u001b[0m\u001b[1;33m\u001b[0m\u001b[0m\n\u001b[0m\u001b[0;32m      8\u001b[0m \u001b[1;33m\u001b[0m\u001b[0m\n\u001b[0;32m      9\u001b[0m \u001b[0mprediction\u001b[0m \u001b[1;33m=\u001b[0m \u001b[0mnp\u001b[0m\u001b[1;33m.\u001b[0m\u001b[0mreshape\u001b[0m\u001b[1;33m(\u001b[0m\u001b[0mdst\u001b[0m\u001b[1;33m,\u001b[0m \u001b[1;33m(\u001b[0m\u001b[1;33m-\u001b[0m\u001b[1;36m1\u001b[0m\u001b[1;33m)\u001b[0m\u001b[1;33m)\u001b[0m\u001b[1;33m\u001b[0m\u001b[0m\n",
      "\u001b[1;31mNameError\u001b[0m: name 'result' is not defined"
     ]
    }
   ],
   "source": [
    "testImages, testLabels, testMasks = loadData( \"Z:/VoorJing/testing\")\n",
    "target = np.reshape(testLabels, (-1)).astype(int)\n",
    "\n",
    "# with open(\"model_20181018_balanced.pickle\", 'rb') as f:\n",
    "#     result = pickle.load(f)\n",
    "dst = np.zeros((5, 48, 290, 290, 1), dtype=np.int8)\n",
    "dst[testMasks] = np.argmax(result, axis=1)\n",
    "\n",
    "prediction = np.reshape(dst, (-1))\n",
    "print(\"target:\\n\",itemfreq(target))\n",
    "print(\"prediction:\\n\",itemfreq(prediction))\n",
    "\n",
    "conf_mat = confusion_matrix(target,prediction)\n",
    "print(\"\\n\", classification_report(target,prediction))\n",
    "\n",
    "\n",
    "label_l= list(set(target).union(prediction))\n",
    "fig, ax = plt.subplots(figsize=(10,10))\n",
    "sns.heatmap(conf_mat, annot=True, fmt='d',xticklabels=label_l, yticklabels=label_l)\n",
    "plt.ylabel('Actual')\n",
    "plt.xlabel('Predicted')\n",
    "plt.show()"
   ]
  },
  {
   "cell_type": "code",
   "execution_count": 73,
   "metadata": {},
   "outputs": [
    {
     "data": {
      "text/plain": [
       "array([[8.71115853e-12, 9.96587038e-01, 3.35682044e-03, ...,\n",
       "        1.20201496e-11, 9.23154522e-12, 1.36939167e-11],\n",
       "       [6.88576366e-12, 9.96538162e-01, 3.42044351e-03, ...,\n",
       "        9.82978282e-12, 7.00111236e-12, 1.04057735e-11],\n",
       "       [3.47786860e-12, 9.97820497e-01, 2.15423666e-03, ...,\n",
       "        4.61861018e-12, 3.08837548e-12, 5.23883454e-12],\n",
       "       ...,\n",
       "       [2.97169928e-12, 9.59135294e-01, 4.08227891e-02, ...,\n",
       "        6.15418697e-12, 3.92090744e-12, 3.45216000e-12],\n",
       "       [3.33483740e-12, 9.55839157e-01, 4.41122353e-02, ...,\n",
       "        7.32136660e-12, 4.45740146e-12, 3.93996554e-12],\n",
       "       [2.28732289e-12, 9.85405147e-01, 1.45710949e-02, ...,\n",
       "        4.56758589e-12, 2.87287707e-12, 2.70323369e-12]], dtype=float32)"
      ]
     },
     "execution_count": 73,
     "metadata": {},
     "output_type": "execute_result"
    }
   ],
   "source": []
  },
  {
   "cell_type": "markdown",
   "metadata": {},
   "source": [
    "## Anomaly using IsolationForest"
   ]
  },
  {
   "cell_type": "code",
   "execution_count": 149,
   "metadata": {},
   "outputs": [
    {
     "name": "stdout",
     "output_type": "stream",
     "text": [
      "2000\n",
      "4000\n",
      "6000\n",
      "8000\n"
     ]
    }
   ],
   "source": [
    "testPath = \"Z:/VoorJing/extra-test\"\n",
    "   \n",
    "testImages, testLabels, testMasks = loadData(testPath)\n",
    "testNonZeroIdx = np.nonzero(testMasks)\n",
    "\n",
    "model = keras.models.load_model(\"C:/Users/Jing/Documents/umcu/src/model/cnn_brain_segmentation_model_balenced_20181019_174700.h5\")\n",
    "novelty_model = Model(inputs=model.input, outputs=model.get_layer(\"dense_41\").output)\n",
    "\n",
    "\n",
    "iterator = batchTestGeneratorMasked(testImages, testLabels, testNonZeroIdx, batchShape)\n",
    "\n",
    "i = 0\n",
    "r = 0\n",
    "result = None\n",
    "novelty = None\n",
    "\n",
    "for predictImages, predictLabels in iterator:\n",
    "    resultModel = model.predict_on_batch(predictImages)\n",
    "    resultNovelty = novelty_model.predict_on_batch(predictImages)\n",
    "    \n",
    "    if result is None:\n",
    "        result = resultModel\n",
    "        novelty = resultNovelty\n",
    "    else:\n",
    "        result = np.concatenate([result, resultModel])\n",
    "        novelty = np.concatenate([novelty, resultNovelty])\n",
    "        r+=1\n",
    "        if r%2000==0:\n",
    "            print (r)"
   ]
  },
  {
   "cell_type": "code",
   "execution_count": 157,
   "metadata": {},
   "outputs": [
    {
     "data": {
      "text/plain": [
       "(1, 48, 290, 290, 1)"
      ]
     },
     "execution_count": 157,
     "metadata": {},
     "output_type": "execute_result"
    }
   ],
   "source": [
    "testLabels.shape"
   ]
  },
  {
   "cell_type": "code",
   "execution_count": 150,
   "metadata": {},
   "outputs": [
    {
     "data": {
      "text/plain": [
       "(586202, 14)"
      ]
     },
     "execution_count": 150,
     "metadata": {},
     "output_type": "execute_result"
    }
   ],
   "source": [
    "result.shape"
   ]
  },
  {
   "cell_type": "code",
   "execution_count": 151,
   "metadata": {},
   "outputs": [
    {
     "data": {
      "text/plain": [
       "(586202, 64)"
      ]
     },
     "execution_count": 151,
     "metadata": {},
     "output_type": "execute_result"
    }
   ],
   "source": [
    "novelty.shape"
   ]
  },
  {
   "cell_type": "code",
   "execution_count": 152,
   "metadata": {},
   "outputs": [],
   "source": [
    "pickle.dump( result,  open( 'model_20181022_balanced_100000_extra.pickle', 'wb' ) )\n",
    "pickle.dump( novelty ,  open( 'novelty_20181022_balanced_100000_extra.pickle', 'wb' ) )\n"
   ]
  },
  {
   "cell_type": "code",
   "execution_count": 153,
   "metadata": {},
   "outputs": [],
   "source": [
    "with open(\"model_20181022_balanced_100000.pickle\", 'rb') as f:\n",
    "    trainresult = pickle.load(f)\n",
    "with open(\"novelty_20181022_balanced_100000.pickle\", 'rb') as f:\n",
    "    trainnovelty = pickle.load(f)"
   ]
  },
  {
   "cell_type": "code",
   "execution_count": 154,
   "metadata": {},
   "outputs": [],
   "source": [
    "with open(\"model_20181022_balanced_100000_extra.pickle\", 'rb') as f:\n",
    "    result = pickle.load(f)\n",
    "with open(\"novelty_20181022_balanced_100000_extra.pickle\", 'rb') as f:\n",
    "    novelty = pickle.load(f)"
   ]
  },
  {
   "cell_type": "code",
   "execution_count": 155,
   "metadata": {},
   "outputs": [
    {
     "data": {
      "text/plain": [
       "(586202, 14)"
      ]
     },
     "execution_count": 155,
     "metadata": {},
     "output_type": "execute_result"
    }
   ],
   "source": [
    "result.shape"
   ]
  },
  {
   "cell_type": "code",
   "execution_count": 156,
   "metadata": {},
   "outputs": [
    {
     "data": {
      "text/plain": [
       "(2371450, 14)"
      ]
     },
     "execution_count": 156,
     "metadata": {},
     "output_type": "execute_result"
    }
   ],
   "source": [
    "trainresult.shape"
   ]
  },
  {
   "cell_type": "code",
   "execution_count": 158,
   "metadata": {},
   "outputs": [
    {
     "data": {
      "text/plain": [
       "(48, 290, 290)"
      ]
     },
     "execution_count": 158,
     "metadata": {},
     "output_type": "execute_result"
    }
   ],
   "source": [
    "padding = 25\n",
    "extra_testfile = \"Z:/VoorJing/extra-test/D11/features/labels_truth.nii\"\n",
    "labelImage = sitk.ReadImage(extra_testfile)\n",
    "labelArray = np.pad(sitk.GetArrayFromImage(labelImage), [(0,0),(padding,padding),(padding,padding)], 'constant')\n",
    "ground_result = labelArray\n",
    "ground_result.shape"
   ]
  },
  {
   "cell_type": "code",
   "execution_count": 31,
   "metadata": {},
   "outputs": [],
   "source": [
    "from sklearn.ensemble import IsolationForest"
   ]
  },
  {
   "cell_type": "code",
   "execution_count": 35,
   "metadata": {},
   "outputs": [],
   "source": [
    "rng = np.random.RandomState(42)\n",
    "clf = IsolationForest(behaviour='new', contamination=0.1, \n",
    "                      n_estimators=100, max_samples='auto', \n",
    "                      max_features=1.0, bootstrap=False, n_jobs=-1, random_state=rng)\n",
    "clf.fit(trainnovelty)\n",
    "y_pred_train = clf.predict(trainnovelty)\n",
    "y_pred_outliers = clf.predict(novelty)"
   ]
  },
  {
   "cell_type": "code",
   "execution_count": null,
   "metadata": {},
   "outputs": [],
   "source": []
  },
  {
   "cell_type": "code",
   "execution_count": 36,
   "metadata": {
    "collapsed": true
   },
   "outputs": [
    {
     "name": "stderr",
     "output_type": "stream",
     "text": [
      "C:\\Users\\Jing\\Anaconda3\\envs\\jing\\lib\\site-packages\\ipykernel_launcher.py:1: DeprecationWarning: `itemfreq` is deprecated!\n",
      "`itemfreq` is deprecated and will be removed in a future version. Use instead `np.unique(..., return_counts=True)`\n",
      "  \"\"\"Entry point for launching an IPython kernel.\n"
     ]
    },
    {
     "data": {
      "text/plain": [
       "array([[    -1,  48534],\n",
       "       [     1, 537668]], dtype=int64)"
      ]
     },
     "execution_count": 36,
     "metadata": {},
     "output_type": "execute_result"
    }
   ],
   "source": [
    "itemfreq(y_pred_outliers)"
   ]
  },
  {
   "cell_type": "code",
   "execution_count": 37,
   "metadata": {},
   "outputs": [
    {
     "name": "stderr",
     "output_type": "stream",
     "text": [
      "C:\\Users\\Jing\\Anaconda3\\envs\\jing\\lib\\site-packages\\ipykernel_launcher.py:1: DeprecationWarning: `itemfreq` is deprecated!\n",
      "`itemfreq` is deprecated and will be removed in a future version. Use instead `np.unique(..., return_counts=True)`\n",
      "  \"\"\"Entry point for launching an IPython kernel.\n"
     ]
    },
    {
     "data": {
      "text/plain": [
       "array([[     -1,  237145],\n",
       "       [      1, 2134305]], dtype=int64)"
      ]
     },
     "execution_count": 37,
     "metadata": {},
     "output_type": "execute_result"
    }
   ],
   "source": [
    "itemfreq(y_pred_train)"
   ]
  },
  {
   "cell_type": "code",
   "execution_count": 136,
   "metadata": {},
   "outputs": [
    {
     "data": {
      "text/plain": [
       "(586202,)"
      ]
     },
     "execution_count": 136,
     "metadata": {},
     "output_type": "execute_result"
    }
   ],
   "source": [
    "y_pred_outliers.shape"
   ]
  },
  {
   "cell_type": "code",
   "execution_count": 137,
   "metadata": {
    "scrolled": true
   },
   "outputs": [
    {
     "name": "stdout",
     "output_type": "stream",
     "text": [
      "(48, 290, 290)\n"
     ]
    },
    {
     "data": {
      "image/png": "[encoded data removed]",
      "text/plain": [
       "<Figure size 1174.5x1174.5 with 1 Axes>"
      ]
     },
     "metadata": {
      "needs_background": "light"
     },
     "output_type": "display_data"
    }
   ],
   "source": [
    "dst = np.zeros((1, 48, 290, 290, 1), dtype=np.int8)\n",
    "dst[testMasks] = y_pred_outliers\n",
    "for k,i in enumerate(dst):\n",
    "    a = sitk.GetImageFromArray(i[:,:,:,0])\n",
    "    myshow(a)\n",
    "#     sitk.WriteImage(a,'C:/Users/Jing/Documents/umcu/src/model/balanced_3_'+str(k)+'.nii') \n",
    "    print(i[:,:,:,0].shape)"
   ]
  },
  {
   "cell_type": "code",
   "execution_count": 139,
   "metadata": {},
   "outputs": [
    {
     "data": {
      "text/plain": [
       "(1, 48, 290, 290, 1)"
      ]
     },
     "execution_count": 139,
     "metadata": {},
     "output_type": "execute_result"
    }
   ],
   "source": [
    "dst.shape"
   ]
  },
  {
   "cell_type": "code",
   "execution_count": 98,
   "metadata": {},
   "outputs": [
    {
     "data": {
      "text/plain": [
       "(1, 48, 290, 290, 1)"
      ]
     },
     "execution_count": 98,
     "metadata": {},
     "output_type": "execute_result"
    }
   ],
   "source": [
    "testLabels.shape"
   ]
  },
  {
   "cell_type": "code",
   "execution_count": 161,
   "metadata": {},
   "outputs": [
    {
     "data": {
      "text/plain": [
       "(48, 290, 290)"
      ]
     },
     "execution_count": 161,
     "metadata": {},
     "output_type": "execute_result"
    }
   ],
   "source": [
    "target.shape"
   ]
  },
  {
   "cell_type": "code",
   "execution_count": 162,
   "metadata": {},
   "outputs": [
    {
     "data": {
      "text/plain": [
       "(4036800,)"
      ]
     },
     "execution_count": 162,
     "metadata": {},
     "output_type": "execute_result"
    }
   ],
   "source": [
    "prediction.shape"
   ]
  },
  {
   "cell_type": "code",
   "execution_count": 163,
   "metadata": {},
   "outputs": [
    {
     "name": "stderr",
     "output_type": "stream",
     "text": [
      "C:\\Users\\Jing\\Anaconda3\\envs\\jing\\lib\\site-packages\\ipykernel_launcher.py:3: DeprecationWarning: `itemfreq` is deprecated!\n",
      "`itemfreq` is deprecated and will be removed in a future version. Use instead `np.unique(..., return_counts=True)`\n",
      "  This is separate from the ipykernel package so we can avoid doing imports until\n"
     ]
    },
    {
     "name": "stdout",
     "output_type": "stream",
     "text": [
      "target:\n",
      " [[0.00000e+00 4.03487e+06]\n",
      " [1.00000e+00 1.93000e+03]]\n",
      "prediction:\n",
      " [[      0 3988266]\n",
      " [      1   48534]]\n"
     ]
    },
    {
     "name": "stderr",
     "output_type": "stream",
     "text": [
      "C:\\Users\\Jing\\Anaconda3\\envs\\jing\\lib\\site-packages\\ipykernel_launcher.py:4: DeprecationWarning: `itemfreq` is deprecated!\n",
      "`itemfreq` is deprecated and will be removed in a future version. Use instead `np.unique(..., return_counts=True)`\n",
      "  after removing the cwd from sys.path.\n"
     ]
    },
    {
     "name": "stdout",
     "output_type": "stream",
     "text": [
      "\n",
      "               precision    recall  f1-score   support\n",
      "\n",
      "         0.0       1.00      0.99      0.99   4034870\n",
      "         1.0       0.02      0.48      0.04      1930\n",
      "\n",
      "   micro avg       0.99      0.99      0.99   4036800\n",
      "   macro avg       0.51      0.74      0.52   4036800\n",
      "weighted avg       1.00      0.99      0.99   4036800\n",
      "\n"
     ]
    },
    {
     "data": {
      "image/png": "[encoded data removed]",
      "text/plain": [
       "<Figure size 720x720 with 2 Axes>"
      ]
     },
     "metadata": {
      "needs_background": "light"
     },
     "output_type": "display_data"
    }
   ],
   "source": [
    "target = ground_result.flatten()\n",
    "prediction = np.reshape(dst, (-1))==-1\n",
    "print(\"target:\\n\",itemfreq(target))\n",
    "print(\"prediction:\\n\",itemfreq(prediction))\n",
    "\n",
    "conf_mat = confusion_matrix(target,prediction)\n",
    "print(\"\\n\", classification_report(target,prediction))\n",
    "\n",
    "\n",
    "label_l= list(set(target).union(prediction))\n",
    "fig, ax = plt.subplots(figsize=(10,10))\n",
    "sns.heatmap(conf_mat, annot=True, fmt='d',xticklabels=label_l, yticklabels=label_l)\n",
    "plt.ylabel('Actual')\n",
    "plt.xlabel('Predicted')\n",
    "plt.show()"
   ]
  },
  {
   "cell_type": "markdown",
   "metadata": {},
   "source": [
    "## KNN"
   ]
  },
  {
   "cell_type": "code",
   "execution_count": 49,
   "metadata": {},
   "outputs": [],
   "source": [
    "\n",
    "\n",
    "import data\n",
    "\n",
    "import scipy.ndimage.measurements\n",
    "import time\n",
    "\n",
    "import cyflann\n"
   ]
  },
  {
   "cell_type": "code",
   "execution_count": 70,
   "metadata": {},
   "outputs": [
    {
     "data": {
      "text/plain": [
       "(586202, 14)"
      ]
     },
     "execution_count": 70,
     "metadata": {},
     "output_type": "execute_result"
    }
   ],
   "source": [
    "result.shape"
   ]
  },
  {
   "cell_type": "code",
   "execution_count": 81,
   "metadata": {},
   "outputs": [],
   "source": [
    "testResult  = np.argmax(result, axis=1)"
   ]
  },
  {
   "cell_type": "code",
   "execution_count": 71,
   "metadata": {},
   "outputs": [
    {
     "data": {
      "text/plain": [
       "(586202, 64)"
      ]
     },
     "execution_count": 71,
     "metadata": {},
     "output_type": "execute_result"
    }
   ],
   "source": [
    "novelty.shape"
   ]
  },
  {
   "cell_type": "code",
   "execution_count": 72,
   "metadata": {},
   "outputs": [
    {
     "data": {
      "text/plain": [
       "(2371450, 14)"
      ]
     },
     "execution_count": 72,
     "metadata": {},
     "output_type": "execute_result"
    }
   ],
   "source": [
    "trainresult.shape"
   ]
  },
  {
   "cell_type": "code",
   "execution_count": 73,
   "metadata": {},
   "outputs": [
    {
     "data": {
      "text/plain": [
       "(2371450, 64)"
      ]
     },
     "execution_count": 73,
     "metadata": {},
     "output_type": "execute_result"
    }
   ],
   "source": [
    "trainnovelty.shape"
   ]
  },
  {
   "cell_type": "code",
   "execution_count": 74,
   "metadata": {},
   "outputs": [],
   "source": [
    "s = np.random.randint(0, len(novelty), 50000)\n",
    "idx = cyflann.FLANNIndex(algorithm='linear')\n",
    "idx.build_index(novelty[s]) "
   ]
  },
  {
   "cell_type": "code",
   "execution_count": 75,
   "metadata": {},
   "outputs": [],
   "source": [
    "feature_avg = np.mean(trainnovelty, axis=1)\n",
    "feature_std = np.std(trainnovelty, axis=1)"
   ]
  },
  {
   "cell_type": "code",
   "execution_count": 76,
   "metadata": {},
   "outputs": [
    {
     "data": {
      "text/plain": [
       "(2371450,)"
      ]
     },
     "execution_count": 76,
     "metadata": {},
     "output_type": "execute_result"
    }
   ],
   "source": [
    "feature_std.shape"
   ]
  },
  {
   "cell_type": "code",
   "execution_count": 87,
   "metadata": {},
   "outputs": [
    {
     "data": {
      "image/png": "[encoded data removed]",
      "text/plain": [
       "<Figure size 1174.5x1174.5 with 1 Axes>"
      ]
     },
     "metadata": {
      "needs_background": "light"
     },
     "output_type": "display_data"
    },
    {
     "data": {
      "image/png": "[encoded data removed]",
      "text/plain": [
       "<Figure size 1174.5x1174.5 with 1 Axes>"
      ]
     },
     "metadata": {
      "needs_background": "light"
     },
     "output_type": "display_data"
    }
   ],
   "source": [
    "#%% Run the subject through the NN\n",
    "test_ind, test_dist = idx.nn_index(novelty, 51)\n",
    "test_dist_feature = np.mean(test_dist, axis=1)\n",
    "zscore = (test_dist_feature - feature_avg[testResult]) / feature_std[testResult]\n",
    "\n",
    "zdst = np.zeros(testMasks.shape)\n",
    "zdst[testMasks] = zscore\n",
    "\n",
    "zImage = sitk.GetImageFromArray(zdst[0,:,:,:,0])\n",
    "myshow(zImage)\n",
    "# sitk.WriteImage(zImage, \"C:/Users/Jing/Documents/umcu/src/model/zscore_20181023.nii\")\n",
    "\n",
    "rdst = np.zeros(testMasks.shape)\n",
    "rdst[testMasks] = testResult\n",
    "zImage = sitk.GetImageFromArray(rdst[0,:,:,:,0])\n",
    "myshow(zImage)\n",
    "# sitk.WriteImage(zImage, \"C:/Users/Jing/Documents/umcu/src/model/zsegm_20181023.nii\")"
   ]
  },
  {
   "cell_type": "code",
   "execution_count": 88,
   "metadata": {},
   "outputs": [
    {
     "data": {
      "text/plain": [
       "(1, 48, 290, 290, 1)"
      ]
     },
     "execution_count": 88,
     "metadata": {},
     "output_type": "execute_result"
    }
   ],
   "source": [
    "zdst.shape"
   ]
  },
  {
   "cell_type": "code",
   "execution_count": 98,
   "metadata": {},
   "outputs": [
    {
     "data": {
      "text/plain": [
       "(1, 48, 290, 290, 1)"
      ]
     },
     "execution_count": 98,
     "metadata": {},
     "output_type": "execute_result"
    }
   ],
   "source": [
    "zdst.shape"
   ]
  },
  {
   "cell_type": "code",
   "execution_count": 89,
   "metadata": {
    "scrolled": true
   },
   "outputs": [
    {
     "name": "stderr",
     "output_type": "stream",
     "text": [
      "C:\\Users\\Jing\\Anaconda3\\envs\\jing\\lib\\site-packages\\ipykernel_launcher.py:1: DeprecationWarning: `itemfreq` is deprecated!\n",
      "`itemfreq` is deprecated and will be removed in a future version. Use instead `np.unique(..., return_counts=True)`\n",
      "  \"\"\"Entry point for launching an IPython kernel.\n"
     ]
    },
    {
     "data": {
      "text/plain": [
       "array([[0.00000000e+00, 3.45059800e+06],\n",
       "       [2.64742553e-01, 1.00000000e+00],\n",
       "       [2.82944351e-01, 1.00000000e+00],\n",
       "       ...,\n",
       "       [6.35631065e+01, 1.00000000e+00],\n",
       "       [6.63694992e+01, 1.00000000e+00],\n",
       "       [6.88536987e+01, 1.00000000e+00]])"
      ]
     },
     "execution_count": 89,
     "metadata": {},
     "output_type": "execute_result"
    }
   ],
   "source": [
    "itemfreq(zdst)"
   ]
  },
  {
   "cell_type": "code",
   "execution_count": 164,
   "metadata": {},
   "outputs": [],
   "source": [
    "z4dst = zdst > 4"
   ]
  },
  {
   "cell_type": "code",
   "execution_count": 165,
   "metadata": {},
   "outputs": [],
   "source": [
    "z4dst= z4dst.astype(int)"
   ]
  },
  {
   "cell_type": "code",
   "execution_count": 166,
   "metadata": {},
   "outputs": [
    {
     "data": {
      "text/plain": [
       "(1, 48, 290, 290, 1)"
      ]
     },
     "execution_count": 166,
     "metadata": {},
     "output_type": "execute_result"
    }
   ],
   "source": [
    "z4dst.shape"
   ]
  },
  {
   "cell_type": "code",
   "execution_count": 167,
   "metadata": {},
   "outputs": [
    {
     "name": "stderr",
     "output_type": "stream",
     "text": [
      "C:\\Users\\Jing\\Anaconda3\\envs\\jing\\lib\\site-packages\\ipykernel_launcher.py:1: DeprecationWarning: `itemfreq` is deprecated!\n",
      "`itemfreq` is deprecated and will be removed in a future version. Use instead `np.unique(..., return_counts=True)`\n",
      "  \"\"\"Entry point for launching an IPython kernel.\n"
     ]
    },
    {
     "data": {
      "text/plain": [
       "array([[      0, 3699159],\n",
       "       [      1,  337641]], dtype=int64)"
      ]
     },
     "execution_count": 167,
     "metadata": {},
     "output_type": "execute_result"
    }
   ],
   "source": [
    "itemfreq(z4dst)"
   ]
  },
  {
   "cell_type": "code",
   "execution_count": 133,
   "metadata": {
    "scrolled": true
   },
   "outputs": [
    {
     "data": {
      "image/png": "[encoded data removed]",
      "text/plain": [
       "<Figure size 1174.5x1174.5 with 1 Axes>"
      ]
     },
     "metadata": {
      "needs_background": "light"
     },
     "output_type": "display_data"
    }
   ],
   "source": [
    "zImage = sitk.GetImageFromArray(z4dst[0,:,:,:,0])\n",
    "myshow(zImage)"
   ]
  },
  {
   "cell_type": "code",
   "execution_count": 168,
   "metadata": {},
   "outputs": [
    {
     "name": "stderr",
     "output_type": "stream",
     "text": [
      "C:\\Users\\Jing\\Anaconda3\\envs\\jing\\lib\\site-packages\\ipykernel_launcher.py:3: DeprecationWarning: `itemfreq` is deprecated!\n",
      "`itemfreq` is deprecated and will be removed in a future version. Use instead `np.unique(..., return_counts=True)`\n",
      "  This is separate from the ipykernel package so we can avoid doing imports until\n"
     ]
    },
    {
     "name": "stdout",
     "output_type": "stream",
     "text": [
      "target:\n",
      " [[0.00000e+00 4.03487e+06]\n",
      " [1.00000e+00 1.93000e+03]]\n",
      "prediction:\n",
      " [[      0 3699159]\n",
      " [      1  337641]]\n"
     ]
    },
    {
     "name": "stderr",
     "output_type": "stream",
     "text": [
      "C:\\Users\\Jing\\Anaconda3\\envs\\jing\\lib\\site-packages\\ipykernel_launcher.py:4: DeprecationWarning: `itemfreq` is deprecated!\n",
      "`itemfreq` is deprecated and will be removed in a future version. Use instead `np.unique(..., return_counts=True)`\n",
      "  after removing the cwd from sys.path.\n"
     ]
    },
    {
     "name": "stdout",
     "output_type": "stream",
     "text": [
      "\n",
      "               precision    recall  f1-score   support\n",
      "\n",
      "         0.0       1.00      0.92      0.96   4034870\n",
      "         1.0       0.01      0.98      0.01      1930\n",
      "\n",
      "   micro avg       0.92      0.92      0.92   4036800\n",
      "   macro avg       0.50      0.95      0.48   4036800\n",
      "weighted avg       1.00      0.92      0.96   4036800\n",
      "\n"
     ]
    },
    {
     "data": {
      "image/png": "[encoded data removed]",
      "text/plain": [
       "<Figure size 720x720 with 2 Axes>"
      ]
     },
     "metadata": {
      "needs_background": "light"
     },
     "output_type": "display_data"
    }
   ],
   "source": [
    "target = ground_result.flatten()\n",
    "prediction = np.reshape(z4dst, (-1))\n",
    "print(\"target:\\n\",itemfreq(target))\n",
    "print(\"prediction:\\n\",itemfreq(prediction))\n",
    "\n",
    "conf_mat = confusion_matrix(target,prediction)\n",
    "print(\"\\n\", classification_report(target,prediction))\n",
    "\n",
    "\n",
    "label_l= list(set(target).union(prediction))\n",
    "fig, ax = plt.subplots(figsize=(10,10))\n",
    "sns.heatmap(conf_mat, annot=True, fmt='d',xticklabels=label_l, yticklabels=label_l)\n",
    "plt.ylabel('Actual')\n",
    "plt.xlabel('Predicted')\n",
    "plt.show()"
   ]
  },
  {
   "cell_type": "markdown",
   "metadata": {},
   "source": [
    "## ground truth for novalty"
   ]
  },
  {
   "cell_type": "code",
   "execution_count": 78,
   "metadata": {},
   "outputs": [],
   "source": [
    "target =sitk.GetArrayFromImage(sitk.ReadImage(\"C:/Users/Jing/Documents/umcu/T2_FLAIR.infarct.nii\"))"
   ]
  },
  {
   "cell_type": "code",
   "execution_count": 80,
   "metadata": {},
   "outputs": [
    {
     "data": {
      "text/plain": [
       "(48, 240, 240)"
      ]
     },
     "execution_count": 80,
     "metadata": {},
     "output_type": "execute_result"
    }
   ],
   "source": [
    "target.shape"
   ]
  },
  {
   "cell_type": "code",
   "execution_count": 86,
   "metadata": {},
   "outputs": [
    {
     "name": "stderr",
     "output_type": "stream",
     "text": [
      "C:\\Users\\Jing\\Anaconda3\\envs\\jing\\lib\\site-packages\\ipykernel_launcher.py:1: DeprecationWarning: `itemfreq` is deprecated!\n",
      "`itemfreq` is deprecated and will be removed in a future version. Use instead `np.unique(..., return_counts=True)`\n",
      "  \"\"\"Entry point for launching an IPython kernel.\n"
     ]
    },
    {
     "data": {
      "text/plain": [
       "array([[0.00000e+00, 2.76287e+06],\n",
       "       [1.00000e+00, 1.93000e+03]])"
      ]
     },
     "execution_count": 86,
     "metadata": {},
     "output_type": "execute_result"
    }
   ],
   "source": [
    "itemfreq(target)"
   ]
  },
  {
   "cell_type": "code",
   "execution_count": 85,
   "metadata": {},
   "outputs": [
    {
     "data": {
      "image/png": "[encoded data removed]",
      "text/plain": [
       "<Figure size 972x972 with 1 Axes>"
      ]
     },
     "metadata": {
      "needs_background": "light"
     },
     "output_type": "display_data"
    }
   ],
   "source": [
    "a = sitk.GetImageFromArray(target)\n",
    "myshow(a)"
   ]
  },
  {
   "cell_type": "code",
   "execution_count": null,
   "metadata": {},
   "outputs": [],
   "source": []
  }
 ],
 "metadata": {
  "kernelspec": {
   "display_name": "Python 3",
   "language": "python",
   "name": "python3"
  },
  "language_info": {
   "codemirror_mode": {
    "name": "ipython",
    "version": 3
   },
   "file_extension": ".py",
   "mimetype": "text/x-python",
   "name": "python",
   "nbconvert_exporter": "python",
   "pygments_lexer": "ipython3",
   "version": "3.6.6"
  }
 },
 "nbformat": 4,
 "nbformat_minor": 2
}
