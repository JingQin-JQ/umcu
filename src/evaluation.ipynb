{
 "cells": [
  {
   "cell_type": "code",
   "execution_count": null,
   "metadata": {
    "collapsed": true
   },
   "outputs": [],
   "source": [
    "import difflib\n",
    "import numpy as np\n",
    "import os\n",
    "import SimpleITK as sitk\n",
    "import scipy.spatial\n",
    "\n",
    "# Set the path to the source data (e.g. the training data for self-testing)\n",
    "# and the output directory of that subject\n",
    "testDir = '../data/validation/Utrecht' # For example: '/data/Utrecht/0'\n",
    "participantDir = 'preds/' # For example: '/output/teamname/0'"
   ]
  },
  {
   "cell_type": "code",
   "execution_count": null,
   "metadata": {
    "collapsed": true
   },
   "outputs": [],
   "source": [
    "def do():\n",
    "    \"\"\"Main function\"\"\"\n",
    "    resultFilename = getResultFilename(participantDir)\n",
    "    testImage, resultImage = getImages(os.path.join(testDir, \"*\",\"wmh.nii.gz\"), resultFilename)\n",
    "    dsc = getDSC(testImage, resultImage)\n",
    "    h95 = getHausdorff(testImage, resultImage)\n",
    "    avd = getAVD(testImage, resultImage)\n",
    "    recall, f1 = getLesionDetection(testImage, resultImage)\n",
    "    print 'Dice', dsc, '(higher is better, max=1)'\n",
    "    print 'HD', h95, 'mm', '(lower is better, min=0)'\n",
    "    print 'AVD', avd, '%', '(lower is better, min=0)'\n",
    "    print 'Lesion detection', recall, '(higher is better, max=1)'\n",
    "    print 'Lesion F1', f1, '(higher is better, max=1)'"
   ]
  },
  {
   "cell_type": "code",
   "execution_count": null,
   "metadata": {
    "collapsed": true
   },
   "outputs": [],
   "source": [
    "def getImages(testFilename, resultFilename):\n",
    "    \"\"\"Return the test and result images, thresholded and non-WMH masked.\"\"\"\n",
    "    testImage = sitk.ReadImage(testFilename)\n",
    "    resultImage = sitk.ReadImage(resultFilename)\n",
    "    # Check for equality\n",
    "    assert testImage.GetSize() == resultImage.GetSize()\n",
    "    # Get meta data from the test-image, needed for some sitk methods that check this\n",
    "    resultImage.CopyInformation(testImage)\n",
    "    # Remove non-WMH from the test and result images, since we don't evaluate on that\n",
    "    maskedTestImage = sitk.BinaryThreshold(testImage, 0.5, 1.5, 1, 0) # WMH == 1\n",
    "    nonWMHImage = sitk.BinaryThreshold(testImage, 1.5, 2.5, 0, 1) # non-WMH == 2\n",
    "    maskedResultImage = sitk.Mask(resultImage, nonWMHImage)\n",
    "    # Convert to binary mask\n",
    "    if 'integer' in maskedResultImage.GetPixelIDTypeAsString():\n",
    "    bResultImage = sitk.BinaryThreshold(maskedResultImage, 1, 1000, 1, 0)\n",
    "    else:\n",
    "    bResultImage = sitk.BinaryThreshold(maskedResultImage, 0.5, 1000, 1, 0)\n",
    "    return maskedTestImage, bResultImage"
   ]
  },
  {
   "cell_type": "code",
   "execution_count": null,
   "metadata": {
    "collapsed": true
   },
   "outputs": [],
   "source": [
    "def getResultFilename(participantDir):\n",
    "    \"\"\"Find the filename of the result image.\n",
    "    This should be result.nii.gz or result.nii. If these files are not present,\n",
    "    it tries to find the closest filename.\"\"\"\n",
    "    files = os.listdir(participantDir)\n",
    "    if not files:\n",
    "    raise Exception(\"No results in \"+ participantDir)\n",
    "    resultFilename = None\n",
    "    if 'result.nii.gz' in files:\n",
    "    resultFilename = os.path.join(participantDir, 'result.nii.gz')\n",
    "    elif 'result.nii' in files:\n",
    "    resultFilename = os.path.join(participantDir, 'result.nii')\n",
    "    else:\n",
    "    # Find the filename that is closest to 'result.nii.gz'\n",
    "    maxRatio = -1\n",
    "    for f in files:\n",
    "    currentRatio = difflib.SequenceMatcher(a = f, b = 'result.nii.gz').ratio()\n",
    "    if currentRatio > maxRatio:\n",
    "    resultFilename = os.path.join(participantDir, f)\n",
    "    maxRatio = currentRatio\n",
    "    return resultFilename"
   ]
  },
  {
   "cell_type": "code",
   "execution_count": null,
   "metadata": {
    "collapsed": true
   },
   "outputs": [],
   "source": [
    "def getDSC(testImage, resultImage):\n",
    "    \"\"\"Compute the Dice Similarity Coefficient.\"\"\"\n",
    "    testArray = sitk.GetArrayFromImage(testImage).flatten()\n",
    "    resultArray = sitk.GetArrayFromImage(resultImage).flatten()\n",
    "    # similarity = 1.0 - dissimilarity\n",
    "    return 1.0 - scipy.spatial.distance.dice(testArray, resultArray)"
   ]
  },
  {
   "cell_type": "code",
   "execution_count": null,
   "metadata": {
    "collapsed": true
   },
   "outputs": [],
   "source": [
    "def getHausdorff(testImage, resultImage):\n",
    "    \"\"\"Compute the Hausdorff distance.\"\"\"\n",
    "    # Hausdorff distance is only defined when something is detected\n",
    "    resultStatistics = sitk.StatisticsImageFilter()\n",
    "    resultStatistics.Execute(resultImage)\n",
    "    if resultStatistics.GetSum() == 0:\n",
    "        return float('nan')\n",
    "\n",
    "    # Edge detection is done by ORIGINAL - ERODED, keeping the outer boundaries of lesions. Erosion is performed in 2D\n",
    "    eTestImage = sitk.BinaryErode(testImage, (1,1,0) )\n",
    "    eResultImage = sitk.BinaryErode(resultImage, (1,1,0) )\n",
    "    hTestImage = sitk.Subtract(testImage, eTestImage)\n",
    "    hResultImage = sitk.Subtract(resultImage, eResultImage)\n",
    "    hTestArray = sitk.GetArrayFromImage(hTestImage)\n",
    "    hResultArray = sitk.GetArrayFromImage(hResultImage)\n",
    "    # Convert voxel location to world coordinates. Use the coordinate system of the test image\n",
    "    # np.nonzero = elements of the boundary in numpy order (zyx)\n",
    "    # np.flipud = elements in xyz order\n",
    "    # np.transpose = create tuples (x,y,z)\n",
    "    # testImage.TransformIndexToPhysicalPoint converts (xyz) to world coordinates (in mm)\n",
    "    testCoordinates = np.apply_along_axis(testImage.TransformIndexToPhysicalPoint, 1, np.transpose( np.flipud( np.nonzero(hTestArray) )).astype(int) )\n",
    "    resultCoordinates = np.apply_along_axis(testImage.TransformIndexToPhysicalPoint, 1, np.transpose( np.flipud( np.nonzero(hResultArray) )).astype(int) )\n",
    "    \n",
    "    # Use a kd-tree for fast spatial search\n",
    "    def getDistancesFromAtoB(a, b):\n",
    "        kdTree = scipy.spatial.KDTree(a, leafsize=100)\n",
    "        return kdTree.query(b, k=1, eps=0, p=2)[0]\n",
    "    \n",
    "    # Compute distances from test to result; and result to test\n",
    "    dTestToResult = getDistancesFromAtoB(testCoordinates, resultCoordinates)\n",
    "    dResultToTest = getDistancesFromAtoB(resultCoordinates, testCoordinates)\n",
    "    \n",
    "    return max(np.percentile(dTestToResult, 95), np.percentile(dResultToTest, 95))"
   ]
  },
  {
   "cell_type": "code",
   "execution_count": null,
   "metadata": {
    "collapsed": true
   },
   "outputs": [],
   "source": [
    "def getLesionDetection(testImage, resultImage):\n",
    "    \"\"\"Lesion detection metrics, both recall and F1.\"\"\"\n",
    "    # Connected components will give the background label 0, so subtract 1 from all results\n",
    "    ccFilter = sitk.ConnectedComponentImageFilter()\n",
    "    ccFilter.SetFullyConnected(True)\n",
    "    # Connected components on the test image, to determine the number of true WMH.\n",
    "    # And to get the overlap between detected voxels and true WMH\n",
    "    ccTest = ccFilter.Execute(testImage)\n",
    "    lResult = sitk.Multiply(ccTest, sitk.Cast(resultImage, sitk.sitkUInt32))\n",
    "    ccTestArray = sitk.GetArrayFromImage(ccTest)\n",
    "    lResultArray = sitk.GetArrayFromImage(lResult)\n",
    "    # recall = (number of detected WMH) / (number of true WMH)\n",
    "    nWMH = len(np.unique(ccTestArray)) - 1\n",
    "    if nWMH == 0:\n",
    "        recall = 1.0\n",
    "    else:\n",
    "        recall = float(len(np.unique(lResultArray)) - 1) / nWMH\n",
    "    # Connected components of results, to determine number of detected lesions\n",
    "    ccResult = ccFilter.Execute(resultImage)\n",
    "    lTest = sitk.Multiply(ccResult, sitk.Cast(testImage, sitk.sitkUInt32))\n",
    "    ccResultArray = sitk.GetArrayFromImage(ccResult)\n",
    "    lTestArray = sitk.GetArrayFromImage(lTest)\n",
    "    # precision = (number of detections that intersect with WMH) / (number of all detections)\n",
    "    nDetections = len(np.unique(ccResultArray)) - 1\n",
    "    if nDetections == 0:\n",
    "        precision = 1.0\n",
    "    else:\n",
    "        precision = float(len(np.unique(lTestArray)) - 1) / nDetections\n",
    "    if precision + recall == 0.0:\n",
    "        f1 = 0.0\n",
    "    else:\n",
    "        f1 = 2.0 * (precision * recall) / (precision + recall)\n",
    "    return recall, f1"
   ]
  },
  {
   "cell_type": "code",
   "execution_count": null,
   "metadata": {
    "collapsed": true
   },
   "outputs": [],
   "source": [
    "def getAVD(testImage, resultImage):\n",
    "    \"\"\"Volume statistics.\"\"\"\n",
    "    # Compute statistics of both images\n",
    "    testStatistics = sitk.StatisticsImageFilter()\n",
    "    resultStatistics = sitk.StatisticsImageFilter()\n",
    "    testStatistics.Execute(testImage)\n",
    "    resultStatistics.Execute(resultImage)\n",
    "    return float(abs(testStatistics.GetSum() - resultStatistics.GetSum())) / float(testStatistics.GetSum()) * 100"
   ]
  },
  {
   "cell_type": "code",
   "execution_count": null,
   "metadata": {
    "collapsed": true
   },
   "outputs": [],
   "source": [
    "if __name__ == \"__main__\":\n",
    "    do()"
   ]
  }
 ],
 "metadata": {
  "kernelspec": {
   "display_name": "Python 3",
   "language": "python",
   "name": "python3"
  },
  "language_info": {
   "codemirror_mode": {
    "name": "ipython",
    "version": 3
   },
   "file_extension": ".py",
   "mimetype": "text/x-python",
   "name": "python",
   "nbconvert_exporter": "python",
   "pygments_lexer": "ipython3",
   "version": "3.6.5"
  }
 },
 "nbformat": 4,
 "nbformat_minor": 2
}
