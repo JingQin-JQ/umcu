{
 "cells": [
  {
   "cell_type": "markdown",
   "metadata": {},
   "source": [
    "### show image"
   ]
  },
  {
   "cell_type": "code",
   "execution_count": 1,
   "metadata": {},
   "outputs": [],
   "source": [
    "def myshow(img, title=None, margin=0.05, dpi=100):\n",
    "    nda = sitk.GetArrayViewFromImage(img)\n",
    "    spacing = img.GetSpacing()\n",
    "        \n",
    "    if nda.ndim == 3:\n",
    "        # fastest dim, either component or x\n",
    "        c = nda.shape[-1]\n",
    "        \n",
    "        # the the number of components is 3 or 4 consider it an RGB image\n",
    "        if not c in (3,4):\n",
    "            nda = nda[nda.shape[0]//2,:,:]\n",
    "    \n",
    "    elif nda.ndim == 4:\n",
    "        c = nda.shape[-1]\n",
    "        \n",
    "        if not c in (3,4):\n",
    "            raise Runtime(\"Unable to show 3D-vector Image\")\n",
    "            \n",
    "        # take a z-slice\n",
    "        nda = nda[nda.shape[0]//2,:,:,:]\n",
    "            \n",
    "    ysize = nda.shape[0]\n",
    "    xsize = nda.shape[1]\n",
    "      \n",
    "    # Make a figure big enough to accommodate an axis of xpixels by ypixels\n",
    "    # as well as the ticklabels, etc...\n",
    "    figsize = (4 + margin) * ysize / dpi, (4 + margin) * xsize / dpi\n",
    "\n",
    "    fig = plt.figure(figsize=figsize, dpi=dpi)\n",
    "    # Make the axis the right size...\n",
    "    ax = fig.add_axes([margin, margin, 1 - 2*margin, 1 - 2*margin])\n",
    "   \n",
    "    extent = (0, xsize*spacing[1], ysize*spacing[0], 0)\n",
    "    \n",
    "    t = ax.imshow(nda,extent=extent,interpolation=None)\n",
    "    \n",
    "    if nda.ndim == 2:\n",
    "        t.set_cmap(\"gray\")\n",
    "    \n",
    "    if(title):\n",
    "        plt.title(title)"
   ]
  },
  {
   "cell_type": "markdown",
   "metadata": {},
   "source": [
    "### load data"
   ]
  },
  {
   "cell_type": "code",
   "execution_count": 3,
   "metadata": {},
   "outputs": [
    {
     "name": "stderr",
     "output_type": "stream",
     "text": [
      "ERROR:root:File `'update_path_to_download_script.py'` not found.\n"
     ]
    }
   ],
   "source": [
    "import os,time\n",
    "import glob\n",
    "import SimpleITK as sitk\n",
    "import matplotlib.pyplot as plt\n",
    "%matplotlib inline\n",
    "\n",
    "%run update_path_to_download_script\n",
    "#from downloaddata import fetch_data as fdata\n",
    "\n",
    "#from downloaddata import fetch_data_all\n",
    "import numpy as np\n",
    "\n",
    "# import tensorflow as tf\n",
    "# import tensorlayer as tl\n",
    "# from tensorlayer.layers import *\n",
    "\n",
    "inputDir = '../data/train'\n",
    "outputDir = 'output'"
   ]
  },
  {
   "cell_type": "code",
   "execution_count": 10,
   "metadata": {},
   "outputs": [],
   "source": [
    "def loadData( inputDir, padding=0 ):\n",
    "    imageflairFilenames = glob.glob(os.path.join(inputDir, \"Utrecht\", \"*\",\"pre\",\"FLAIR.nii.gz\"))\n",
    "    imageT1Filenames = glob.glob(os.path.join(inputDir, \"Utrecht\", \"*\",\"pre\",\"T1.nii.gz\"))\n",
    "    labelFilenames= glob.glob(os.path.join(inputDir, \"Utrecht\", \"*\",\"wmh.nii.gz\"))\n",
    "    images = None # shape: (numImages, z, y, x, channels=1)\n",
    "    labels = None\n",
    "    masks  = None\n",
    "    print(len(imageflairFilenames))\n",
    "    for imageflairFilenames, imageT1Filenames, labelFilenames in zip(imageflairFilenames, imageT1Filenames, labelFilenames):\n",
    "        # Load the images\n",
    "        flairImage = sitk.ReadImage(imageflairFilenames)\n",
    "        T1Image = sitk.ReadImage(imageT1Filenames)\n",
    "        labelImage = sitk.ReadImage(labelFilenames)\n",
    "        # Convert to arrays\n",
    "        flairArray = np.pad(sitk.GetArrayFromImage(flairImage), [(0,0),(padding,padding),(padding,padding)], 'constant')\n",
    "        T1Array = np.pad(sitk.GetArrayFromImage(T1Image), [(0,0),(padding,padding),(padding,padding)], 'constant')\n",
    "        labelArray = np.pad(sitk.GetArrayFromImage(labelImage), [(0,0),(padding,padding),(padding,padding)], 'constant')\n",
    "        maskArray = labelArray > 0\n",
    "        print(\"flairArray\",flairArray.shape)\n",
    "        print(\"T1Array\",T1Array.shape)\n",
    "        print(\"labelArray\",labelArray.shape)\n",
    "        print(\"maskArray\",maskArray.shape)\n",
    "        # Add to the images/labels array\n",
    "        if images is None:\n",
    "            images = flairArray.reshape([1] + list(flairArray.shape) + [1])\n",
    "            images = np.concatenate([images, T1Array.reshape([1] + list(T1Array.shape) + [1])], axis=4)\n",
    "            labels = labelArray.reshape([1] + list(labelArray.shape) + [1])\n",
    "            masks  = maskArray.reshape([1] + list(maskArray.shape) + [1])\n",
    "        else:\n",
    "            tempArray = np.concatenate([flairArray.reshape([1] + list(flairArray.shape) + [1]), T1Array.reshape([1] + list(T1Array.shape) + [1])], axis=4)\n",
    "            \n",
    "            images = np.concatenate([images, tempArray])\n",
    "            \n",
    "            labels = np.concatenate([labels, labelArray.reshape([1] + list(labelArray.shape) + [1])])\n",
    "            masks  = np.concatenate([masks, maskArray.reshape([1] + list(maskArray.shape) + [1])])\n",
    "                    \n",
    "    return images, labels, masks"
   ]
  },
  {
   "cell_type": "code",
   "execution_count": 152,
   "metadata": {
    "scrolled": false
   },
   "outputs": [
    {
     "name": "stdout",
     "output_type": "stream",
     "text": [
      "15\n",
      "flairArray (48, 240, 240)\n",
      "T1Array (48, 240, 240)\n",
      "labelArray (48, 240, 240)\n",
      "maskArray (48, 240, 240)\n",
      "flairArray (48, 240, 240)\n",
      "T1Array (48, 240, 240)\n",
      "labelArray (48, 240, 240)\n",
      "maskArray (48, 240, 240)\n",
      "flairArray (48, 240, 240)\n",
      "T1Array (48, 240, 240)\n",
      "labelArray (48, 240, 240)\n",
      "maskArray (48, 240, 240)\n",
      "flairArray (48, 240, 240)\n",
      "T1Array (48, 240, 240)\n",
      "labelArray (48, 240, 240)\n",
      "maskArray (48, 240, 240)\n",
      "flairArray (48, 240, 240)\n",
      "T1Array (48, 240, 240)\n",
      "labelArray (48, 240, 240)\n",
      "maskArray (48, 240, 240)\n",
      "flairArray (48, 240, 240)\n",
      "T1Array (48, 240, 240)\n",
      "labelArray (48, 240, 240)\n",
      "maskArray (48, 240, 240)\n",
      "flairArray (48, 240, 240)\n",
      "T1Array (48, 240, 240)\n",
      "labelArray (48, 240, 240)\n",
      "maskArray (48, 240, 240)\n",
      "flairArray (48, 240, 240)\n",
      "T1Array (48, 240, 240)\n",
      "labelArray (48, 240, 240)\n",
      "maskArray (48, 240, 240)\n",
      "flairArray (48, 240, 240)\n",
      "T1Array (48, 240, 240)\n",
      "labelArray (48, 240, 240)\n",
      "maskArray (48, 240, 240)\n",
      "flairArray (48, 240, 240)\n",
      "T1Array (48, 240, 240)\n",
      "labelArray (48, 240, 240)\n",
      "maskArray (48, 240, 240)\n",
      "flairArray (48, 240, 240)\n",
      "T1Array (48, 240, 240)\n",
      "labelArray (48, 240, 240)\n",
      "maskArray (48, 240, 240)\n",
      "flairArray (48, 240, 240)\n",
      "T1Array (48, 240, 240)\n",
      "labelArray (48, 240, 240)\n",
      "maskArray (48, 240, 240)\n",
      "flairArray (48, 240, 240)\n",
      "T1Array (48, 240, 240)\n",
      "labelArray (48, 240, 240)\n",
      "maskArray (48, 240, 240)\n",
      "flairArray (48, 240, 240)\n",
      "T1Array (48, 240, 240)\n",
      "labelArray (48, 240, 240)\n",
      "maskArray (48, 240, 240)\n",
      "flairArray (48, 240, 240)\n",
      "T1Array (48, 240, 240)\n",
      "labelArray (48, 240, 240)\n",
      "maskArray (48, 240, 240)\n"
     ]
    }
   ],
   "source": [
    "testImages, testLabels, testMasks = loadData(inputDir)\n",
    "testNonZeroIdx = np.nonzero(testMasks)"
   ]
  },
  {
   "cell_type": "code",
   "execution_count": 155,
   "metadata": {},
   "outputs": [
    {
     "data": {
      "text/plain": [
       "2.0"
      ]
     },
     "execution_count": 155,
     "metadata": {},
     "output_type": "execute_result"
    }
   ],
   "source": [
    "testLabels.max()"
   ]
  },
  {
   "cell_type": "code",
   "execution_count": 7,
   "metadata": {},
   "outputs": [
    {
     "data": {
      "image/png": "[encoded data removed]",
      "text/plain": [
       "<Figure size 972x972 with 1 Axes>"
      ]
     },
     "metadata": {},
     "output_type": "display_data"
    }
   ],
   "source": [
    "myshow(sitk.GetImageFromArray(y))"
   ]
  },
  {
   "cell_type": "markdown",
   "metadata": {},
   "source": [
    "### select data"
   ]
  },
  {
   "cell_type": "code",
   "execution_count": 137,
   "metadata": {},
   "outputs": [],
   "source": [
    "images = []\n",
    "lables = []"
   ]
  },
  {
   "cell_type": "code",
   "execution_count": null,
   "metadata": {},
   "outputs": [],
   "source": []
  },
  {
   "cell_type": "code",
   "execution_count": 156,
   "metadata": {},
   "outputs": [],
   "source": [
    "for i in range(15):\n",
    "    for j in range(48):\n",
    "        if not np.all(testMasks[i,j,:,:,0]== False):\n",
    "            lables.append(testLabels[i,j,:,:,:])\n",
    "            images.append(testImages[i,j,:,:,:])\n"
   ]
  },
  {
   "cell_type": "code",
   "execution_count": 157,
   "metadata": {},
   "outputs": [
    {
     "data": {
      "text/plain": [
       "(240, 240, 1)"
      ]
     },
     "execution_count": 157,
     "metadata": {},
     "output_type": "execute_result"
    }
   ],
   "source": [
    "lables[2].shape"
   ]
  },
  {
   "cell_type": "code",
   "execution_count": 158,
   "metadata": {},
   "outputs": [
    {
     "data": {
      "text/plain": [
       "(240, 240, 2)"
      ]
     },
     "execution_count": 158,
     "metadata": {},
     "output_type": "execute_result"
    }
   ],
   "source": [
    "images[2].shape"
   ]
  },
  {
   "cell_type": "code",
   "execution_count": 159,
   "metadata": {
    "scrolled": true
   },
   "outputs": [
    {
     "name": "stdout",
     "output_type": "stream",
     "text": [
      "(804, 240, 240, 2) 0.0 3168.0\n",
      "(804, 240, 240, 1) 0 2\n"
     ]
    }
   ],
   "source": [
    "X = np.asarray(images)\n",
    "y = np.asarray(lables).astype(int)\n",
    "\n",
    "print(X.shape, X.min(), X.max()) # (240, 240, 4) -0.380588 2.62761\n",
    "print(y.shape, y.min(), y.max()) # (240, 240, 1) 0 1 "
   ]
  },
  {
   "cell_type": "code",
   "execution_count": 162,
   "metadata": {},
   "outputs": [],
   "source": [
    "y[y >1] = 0"
   ]
  },
  {
   "cell_type": "code",
   "execution_count": null,
   "metadata": {},
   "outputs": [],
   "source": []
  },
  {
   "cell_type": "code",
   "execution_count": 163,
   "metadata": {},
   "outputs": [
    {
     "data": {
      "image/png": "[encoded data removed]",
      "text/plain": [
       "<Figure size 972x972 with 1 Axes>"
      ]
     },
     "metadata": {},
     "output_type": "display_data"
    }
   ],
   "source": [
    "myshow(sitk.GetImageFromArray(y[340,:,:,0]))"
   ]
  },
  {
   "cell_type": "markdown",
   "metadata": {},
   "source": [
    "### reshape data in the model"
   ]
  },
  {
   "cell_type": "code",
   "execution_count": null,
   "metadata": {},
   "outputs": [],
   "source": []
  },
  {
   "cell_type": "code",
   "execution_count": null,
   "metadata": {},
   "outputs": [],
   "source": []
  },
  {
   "cell_type": "markdown",
   "metadata": {},
   "source": [
    "### mask"
   ]
  },
  {
   "cell_type": "code",
   "execution_count": null,
   "metadata": {},
   "outputs": [],
   "source": []
  },
  {
   "cell_type": "code",
   "execution_count": null,
   "metadata": {},
   "outputs": [],
   "source": []
  },
  {
   "cell_type": "markdown",
   "metadata": {},
   "source": [
    "### pack data"
   ]
  },
  {
   "cell_type": "code",
   "execution_count": null,
   "metadata": {},
   "outputs": [],
   "source": []
  },
  {
   "cell_type": "code",
   "execution_count": null,
   "metadata": {},
   "outputs": [],
   "source": []
  },
  {
   "cell_type": "markdown",
   "metadata": {},
   "source": [
    "### change label to binaray y[y >1] = 0"
   ]
  },
  {
   "cell_type": "code",
   "execution_count": null,
   "metadata": {},
   "outputs": [],
   "source": []
  },
  {
   "cell_type": "code",
   "execution_count": null,
   "metadata": {},
   "outputs": [],
   "source": []
  }
 ],
 "metadata": {
  "kernelspec": {
   "display_name": "Python 3",
   "language": "python",
   "name": "python3"
  },
  "language_info": {
   "codemirror_mode": {
    "name": "ipython",
    "version": 3
   },
   "file_extension": ".py",
   "mimetype": "text/x-python",
   "name": "python",
   "nbconvert_exporter": "python",
   "pygments_lexer": "ipython3",
   "version": "3.6.5"
  }
 },
 "nbformat": 4,
 "nbformat_minor": 2
}
